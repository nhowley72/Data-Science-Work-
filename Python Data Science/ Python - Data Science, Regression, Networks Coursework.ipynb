{
 "cells": [
  {
   "cell_type": "markdown",
   "id": "bab4c2c2",
   "metadata": {},
   "source": [
    "# Required Packages\n"
   ]
  },
  {
   "cell_type": "code",
   "execution_count": 1,
   "id": "d48be575",
   "metadata": {},
   "outputs": [],
   "source": [
    "import numpy as np \n",
    "import pandas as pd\n",
    "import matplotlib.pyplot as plt\n",
    "from matplotlib.pyplot import subplots, show\n",
    "from sklearn.linear_model import LinearRegression \n",
    "from sklearn.metrics import mean_squared_error, r2_score\n",
    "from sklearn.neighbors import KNeighborsClassifier\n",
    "import networkx as nx\n",
    "from matplotlib import cm\n",
    "import math as math\n",
    "import itertools"
   ]
  },
  {
   "cell_type": "markdown",
   "id": "f874c1da",
   "metadata": {},
   "source": [
    "# Short hand Methods used for time saving"
   ]
  },
  {
   "cell_type": "code",
   "execution_count": 2,
   "id": "84dd619d",
   "metadata": {},
   "outputs": [],
   "source": [
    "def p(*arg): # shorthand print function \n",
    "    for i in arg:\n",
    "        print(i, end = \" \")\n",
    "    print(\"\")"
   ]
  },
  {
   "cell_type": "markdown",
   "id": "4f297a3e",
   "metadata": {},
   "source": [
    "# 1. Data Analysis of the Wines data set (30 marks total)\n",
    "## Task 1.1. \n",
    "### Import the file wines.csv as a pandas dataframe. What is the highest quality score achieved by one or multiple wines in this data set? How many wines achieve such a score"
   ]
  },
  {
   "cell_type": "code",
   "execution_count": 3,
   "id": "d0d46c41",
   "metadata": {},
   "outputs": [
    {
     "name": "stdout",
     "output_type": "stream",
     "text": [
      "     0     1     2    3      4   5   6       7     8     9    10 11\n",
      "0   7.4   0.7     0  1.9  0.076  11  34  0.9978  3.51  0.56  9.4  5\n",
      "1   7.8  0.88     0  2.6  0.098  25  67  0.9968   3.2  0.68  9.8  5\n",
      "2   7.8  0.76  0.04  2.3  0.092  15  54   0.997  3.26  0.65  9.8  5\n",
      "3  11.2  0.28  0.56  1.9  0.075  17  60   0.998  3.16  0.58  9.8  6\n",
      "4   7.4   0.7     0  1.9  0.076  11  34  0.9978  3.51  0.56  9.4  5 \n"
     ]
    }
   ],
   "source": [
    "series = pd.read_csv(\"wines.csv\", squeeze = True) # This is a series\n",
    "\n",
    "#making the Series more usable by splitting the variables into columns \n",
    "\n",
    "dfA = series.str.split(';',expand = True) #splitting each value \n",
    "\n",
    "#output\n",
    "p(dfA.head())"
   ]
  },
  {
   "cell_type": "code",
   "execution_count": 4,
   "id": "a16c751e",
   "metadata": {},
   "outputs": [
    {
     "data": {
      "text/html": [
       "<div>\n",
       "<style scoped>\n",
       "    .dataframe tbody tr th:only-of-type {\n",
       "        vertical-align: middle;\n",
       "    }\n",
       "\n",
       "    .dataframe tbody tr th {\n",
       "        vertical-align: top;\n",
       "    }\n",
       "\n",
       "    .dataframe thead th {\n",
       "        text-align: right;\n",
       "    }\n",
       "</style>\n",
       "<table border=\"1\" class=\"dataframe\">\n",
       "  <thead>\n",
       "    <tr style=\"text-align: right;\">\n",
       "      <th></th>\n",
       "      <th>fixed acidity</th>\n",
       "      <th>volatile acidity</th>\n",
       "      <th>citric acid</th>\n",
       "      <th>residual sugar</th>\n",
       "      <th>chlorides</th>\n",
       "      <th>free sulfur dioxide</th>\n",
       "      <th>total sulfur dioxide</th>\n",
       "      <th>density</th>\n",
       "      <th>pH</th>\n",
       "      <th>sulphates</th>\n",
       "      <th>alcohol</th>\n",
       "      <th>quality</th>\n",
       "    </tr>\n",
       "  </thead>\n",
       "  <tbody>\n",
       "    <tr>\n",
       "      <th>0</th>\n",
       "      <td>7.4</td>\n",
       "      <td>0.7</td>\n",
       "      <td>0</td>\n",
       "      <td>1.9</td>\n",
       "      <td>0.076</td>\n",
       "      <td>11</td>\n",
       "      <td>34</td>\n",
       "      <td>0.9978</td>\n",
       "      <td>3.51</td>\n",
       "      <td>0.56</td>\n",
       "      <td>9.4</td>\n",
       "      <td>5</td>\n",
       "    </tr>\n",
       "    <tr>\n",
       "      <th>1</th>\n",
       "      <td>7.8</td>\n",
       "      <td>0.88</td>\n",
       "      <td>0</td>\n",
       "      <td>2.6</td>\n",
       "      <td>0.098</td>\n",
       "      <td>25</td>\n",
       "      <td>67</td>\n",
       "      <td>0.9968</td>\n",
       "      <td>3.2</td>\n",
       "      <td>0.68</td>\n",
       "      <td>9.8</td>\n",
       "      <td>5</td>\n",
       "    </tr>\n",
       "    <tr>\n",
       "      <th>2</th>\n",
       "      <td>7.8</td>\n",
       "      <td>0.76</td>\n",
       "      <td>0.04</td>\n",
       "      <td>2.3</td>\n",
       "      <td>0.092</td>\n",
       "      <td>15</td>\n",
       "      <td>54</td>\n",
       "      <td>0.997</td>\n",
       "      <td>3.26</td>\n",
       "      <td>0.65</td>\n",
       "      <td>9.8</td>\n",
       "      <td>5</td>\n",
       "    </tr>\n",
       "    <tr>\n",
       "      <th>3</th>\n",
       "      <td>11.2</td>\n",
       "      <td>0.28</td>\n",
       "      <td>0.56</td>\n",
       "      <td>1.9</td>\n",
       "      <td>0.075</td>\n",
       "      <td>17</td>\n",
       "      <td>60</td>\n",
       "      <td>0.998</td>\n",
       "      <td>3.16</td>\n",
       "      <td>0.58</td>\n",
       "      <td>9.8</td>\n",
       "      <td>6</td>\n",
       "    </tr>\n",
       "    <tr>\n",
       "      <th>4</th>\n",
       "      <td>7.4</td>\n",
       "      <td>0.7</td>\n",
       "      <td>0</td>\n",
       "      <td>1.9</td>\n",
       "      <td>0.076</td>\n",
       "      <td>11</td>\n",
       "      <td>34</td>\n",
       "      <td>0.9978</td>\n",
       "      <td>3.51</td>\n",
       "      <td>0.56</td>\n",
       "      <td>9.4</td>\n",
       "      <td>5</td>\n",
       "    </tr>\n",
       "  </tbody>\n",
       "</table>\n",
       "</div>"
      ],
      "text/plain": [
       "  fixed acidity volatile acidity citric acid residual sugar chlorides  \\\n",
       "0           7.4              0.7           0            1.9     0.076   \n",
       "1           7.8             0.88           0            2.6     0.098   \n",
       "2           7.8             0.76        0.04            2.3     0.092   \n",
       "3          11.2             0.28        0.56            1.9     0.075   \n",
       "4           7.4              0.7           0            1.9     0.076   \n",
       "\n",
       "  free sulfur dioxide total sulfur dioxide density    pH sulphates alcohol  \\\n",
       "0                  11                   34  0.9978  3.51      0.56     9.4   \n",
       "1                  25                   67  0.9968   3.2      0.68     9.8   \n",
       "2                  15                   54   0.997  3.26      0.65     9.8   \n",
       "3                  17                   60   0.998  3.16      0.58     9.8   \n",
       "4                  11                   34  0.9978  3.51      0.56     9.4   \n",
       "\n",
       "  quality  \n",
       "0       5  \n",
       "1       5  \n",
       "2       5  \n",
       "3       6  \n",
       "4       5  "
      ]
     },
     "execution_count": 4,
     "metadata": {},
     "output_type": "execute_result"
    }
   ],
   "source": [
    "#Renaming the Columns \n",
    "df = pd.read_csv(\"wines.csv\")\n",
    "dfCols =df.columns\n",
    "\n",
    "#splitting the values \n",
    "dfCols = dfCols.str.split(';',expand = True)\n",
    "\n",
    "#place column names into list\n",
    "ColNames = []\n",
    "for i in dfCols:\n",
    "    for j in i:\n",
    "        #removing speach marks\n",
    "        name =j.replace('\"','')\n",
    "        \n",
    "        ColNames.append(name)\n",
    "\n",
    "#append list variable to datafram column name  \n",
    "dfA = dfA.rename(columns = {0:ColNames[0],1:ColNames[1],2:ColNames[2],3:ColNames[3],\n",
    "                     4:ColNames[4],5:ColNames[5],6:ColNames[6],7:ColNames[7],\n",
    "                     8:ColNames[8],9:ColNames[9],10:ColNames[10],11:ColNames[11]})\n",
    "\n",
    "#dataframe with correct collumn names\n",
    "dfA.head()"
   ]
  },
  {
   "cell_type": "code",
   "execution_count": 5,
   "id": "5549e3a6",
   "metadata": {},
   "outputs": [
    {
     "name": "stdout",
     "output_type": "stream",
     "text": [
      "The highest quality is quality    8\n",
      "dtype: object \n",
      "The Amount of wines with quality rating maximum, 8, is  18 \n"
     ]
    }
   ],
   "source": [
    "#Now to answer,\n",
    "#What is the highest quality score achieved by one or multiple wines in this data set?\n",
    "\n",
    "HighestQuality = dfA[[\"quality\"]].max()\n",
    "p(\"The highest quality is\",HighestQuality)\n",
    "\n",
    "\n",
    "#How many wines achieve such a score¶\n",
    "\n",
    "#taking only the values of the collumn \"quality\"\n",
    "x = dfA[\"quality\"].values\n",
    "\n",
    "#List to append the amount of Answers in\n",
    "Ans = []\n",
    "for i in range(len(x)):\n",
    "    if int(x[i]) == 8:\n",
    "        Ans.append(i)\n",
    "AmountOfMaxQualities = len(Ans)\n",
    "p(\"The Amount of wines with quality rating maximum, 8, is \",AmountOfMaxQualities)\n"
   ]
  },
  {
   "cell_type": "markdown",
   "id": "01fc9c91",
   "metadata": {},
   "source": [
    "## Task 1.2. \n",
    "### Compute the mean and median quality score achieved by all wines in the data set.\n"
   ]
  },
  {
   "cell_type": "code",
   "execution_count": 6,
   "id": "e51b52ba",
   "metadata": {},
   "outputs": [
    {
     "name": "stdout",
     "output_type": "stream",
     "text": [
      "mean of quality =  5.6360225140712945 \n",
      "median of quality =  6.0 \n"
     ]
    }
   ],
   "source": [
    "#changing all elements to ints\n",
    "dfA['quality'] = dfA['quality'].astype(int)\n",
    "\n",
    "#find mean \n",
    "mean = dfA[\"quality\"].mean()\n",
    "#show result\n",
    "p(\"mean of quality = \",mean)\n",
    "\n",
    "#find median\n",
    "median = dfA[\"quality\"].median()\n",
    "#show result\n",
    "p(\"median of quality = \", median)\n"
   ]
  },
  {
   "cell_type": "markdown",
   "id": "155d3170",
   "metadata": {},
   "source": [
    "## Task 1.3. \n",
    "### Plot a histogram of the quality scores of all wines "
   ]
  },
  {
   "cell_type": "code",
   "execution_count": 7,
   "id": "7d4739e1",
   "metadata": {},
   "outputs": [
    {
     "data": {
      "text/plain": [
       "<AxesSubplot:ylabel='Frequency'>"
      ]
     },
     "execution_count": 7,
     "metadata": {},
     "output_type": "execute_result"
    },
    {
     "data": {
      "image/png": "[encoded data removed]",
      "text/plain": [
       "<Figure size 432x288 with 1 Axes>"
      ]
     },
     "metadata": {
      "needs_background": "light"
     },
     "output_type": "display_data"
    }
   ],
   "source": [
    "dfA[\"quality\"].plot.hist()"
   ]
  },
  {
   "cell_type": "markdown",
   "id": "1db7e2af",
   "metadata": {},
   "source": [
    "## Task 1.4. What can you say about the relationship between the attributes fixed acidity and citric acid? What can you say about the relationship between volatile acidity and citric acid? Justify your answers. You can use plots to support your arguments"
   ]
  },
  {
   "cell_type": "code",
   "execution_count": 8,
   "id": "136494d5",
   "metadata": {},
   "outputs": [
    {
     "data": {
      "text/plain": [
       "<Figure size 432x288 with 0 Axes>"
      ]
     },
     "metadata": {},
     "output_type": "display_data"
    },
    {
     "data": {
      "image/png": "[encoded data removed]",
      "text/plain": [
       "<Figure size 432x288 with 1 Axes>"
      ]
     },
     "metadata": {
      "needs_background": "light"
     },
     "output_type": "display_data"
    }
   ],
   "source": [
    "fig = plt.figure()\n",
    "\n",
    "#sort the two Columns from the datafram and name them \n",
    "y = dfA[\"citric acid\"].astype(float).sort_values(ascending = True)\n",
    "x = dfA[\"fixed acidity\"].astype(float).sort_values(ascending = True)\n",
    "\n",
    "#Plotting \n",
    "#(side note: the line plotted is similar to the linnear reg line of the values)\n",
    "\n",
    "fig, ax = subplots()\n",
    "\n",
    "#plotting the sorted collumns  \n",
    "ax.plot(x, y)\n",
    "\n",
    "ax.set_xlabel(\"citirc acid\")\n",
    "ax.set_ylabel(\"fixed acidity\")\n",
    "plt.plot(np.linspace(4,16,10),np.linspace(0,1,10)) \n",
    "plt.legend(['Data','line y = (1/12)x'])\n",
    "show()\n"
   ]
  },
  {
   "cell_type": "markdown",
   "id": "0fd2ec55",
   "metadata": {},
   "source": [
    "### What can you say about the relationship between the attributes fixed acidity and citric acid?\n",
    "\n",
    "As you can see the plot of Fixed acidity vs citric acid has an increasing gradient and is hence corrolated to some small degree (this plot lies closely to the line y = (1/12)x). The more Fixed acidity the more citric acid on average."
   ]
  },
  {
   "cell_type": "code",
   "execution_count": 9,
   "id": "5a636732",
   "metadata": {},
   "outputs": [
    {
     "data": {
      "text/plain": [
       "<Figure size 432x288 with 0 Axes>"
      ]
     },
     "metadata": {},
     "output_type": "display_data"
    },
    {
     "data": {
      "image/png": "[encoded data removed]",
      "text/plain": [
       "<Figure size 432x288 with 1 Axes>"
      ]
     },
     "metadata": {
      "needs_background": "light"
     },
     "output_type": "display_data"
    }
   ],
   "source": [
    "fig = plt.figure()\n",
    "\n",
    "#similar process as the above cell\n",
    "#soort values \n",
    "y = dfA[\"citric acid\"].astype(float).sort_values(ascending = True)\n",
    "x = dfA[\"volatile acidity\"].astype(float).sort_values(ascending = True)\n",
    "\n",
    "fig, ax = subplots()\n",
    "#plot the values \n",
    "ax.plot(y, x)\n",
    "ax.set_xlabel(\"citirc acid\")\n",
    "ax.set_ylabel(\"volatile acidity\")\n",
    "plt.plot(np.linspace(0,1,10),np.linspace(0,1,10))\n",
    "plt.legend(['Data','line y = x'])\n",
    "show()"
   ]
  },
  {
   "cell_type": "markdown",
   "id": "9e99ab84",
   "metadata": {},
   "source": [
    "### What can you say about the relationship between the attributes volatile acidity and citric acid?\n",
    "\n",
    "As you can see the plot of volatile acidity vs citric acid has an incresing gradient and is hence corrolated to some degree (this plot lies closely to the line y = x). The gradient of the volatile acidity vs citric acid graph is much larger than the gradient of the Fixed acidity vs citric acid implying that there is a stonger relashionship between the volatile acidity and citric acid than there is Fixed acidity vs citric acid.'"
   ]
  },
  {
   "cell_type": "markdown",
   "id": "9b09ca50",
   "metadata": {},
   "source": [
    "## Task 1.5. \n",
    "### Construct a matrix X ∈ R n×2 where n is the number of wines in the data set. The two columns of the matrix X represent, respectively, the values of the attributes fixed acidity and volatile acidity. Also construct a vector y ∈ R n such that each entry corresponds to the value of the citric acid of a particular wine."
   ]
  },
  {
   "cell_type": "code",
   "execution_count": 10,
   "id": "ea42dd62",
   "metadata": {},
   "outputs": [
    {
     "name": "stdout",
     "output_type": "stream",
     "text": [
      "<class 'numpy.matrix'> \n",
      "[['7.4' '0.7']\n",
      " ['7.8' '0.88']\n",
      " ['7.8' '0.76']\n",
      " ...\n",
      " ['6.3' '0.51']\n",
      " ['5.9' '0.645']\n",
      " ['6' '0.31']] \n"
     ]
    }
   ],
   "source": [
    "#a dataframe of fixed acidity and volatile acidity \n",
    "A = dfA[[\"fixed acidity\",\"volatile acidity\"]]\n",
    "#convert datafram to array \n",
    "B = A.to_numpy()\n",
    "#convert array to matrix\n",
    "X = np.asmatrix(B)\n",
    "\n",
    "#showing output\n",
    "p(type(X))\n",
    "p(X)\n"
   ]
  },
  {
   "cell_type": "code",
   "execution_count": 11,
   "id": "bc5dbf79",
   "metadata": {},
   "outputs": [],
   "source": [
    "#a Series of citric acid \n",
    "CA = dfA[\"citric acid\"]\n",
    "#Convert to Array (Vector)\n",
    "y = np.stack(CA)\n"
   ]
  },
  {
   "cell_type": "markdown",
   "id": "b4f0a749",
   "metadata": {},
   "source": [
    "### Given Info: In the tasks below, we will use (X, y) defined above as a data set for linear regression. X will contain our explanatory variables, while y will contain our labels."
   ]
  },
  {
   "cell_type": "markdown",
   "id": "4808d840",
   "metadata": {},
   "source": [
    "## Task 1.6. Divide the data set (X, y) into a training and test set. The training set should contain approximately 80% of the data."
   ]
  },
  {
   "cell_type": "code",
   "execution_count": 12,
   "id": "226ff800",
   "metadata": {},
   "outputs": [
    {
     "name": "stdout",
     "output_type": "stream",
     "text": [
      "1599 \n",
      "1599 \n"
     ]
    }
   ],
   "source": [
    "p(len(X))\n",
    "p(len(y))"
   ]
  },
  {
   "cell_type": "code",
   "execution_count": 13,
   "id": "6853b586",
   "metadata": {},
   "outputs": [],
   "source": [
    "#both X and y have the same length. This is nice.\n",
    "TrainingNum = round(0.8 * len(X))\n",
    "#Training number is 1279 \n",
    "TestNum = len(X) - TrainingNum\n",
    "#Test Number is 320\n",
    "#now to apply the values \n",
    "trainX = X[0:TrainingNum]\n",
    "trainY = y[0:TrainingNum]\n",
    "testX = X[TrainingNum:]\n",
    "testY = y[TrainingNum:]"
   ]
  },
  {
   "cell_type": "code",
   "execution_count": 14,
   "id": "01fcbd55",
   "metadata": {},
   "outputs": [
    {
     "name": "stdout",
     "output_type": "stream",
     "text": [
      "True \n"
     ]
    }
   ],
   "source": [
    "#quick check to see if the sizes are equal, and hence the above code assigned the correct sized sets.\n",
    "p(TrainingNum ==len(trainX))"
   ]
  },
  {
   "cell_type": "markdown",
   "id": "45036f7e",
   "metadata": {},
   "source": [
    "## Task 1.7. Use scikit-learn to train a linear regression model on the training set you constructed in the previous task. In particular, this model should predict the citric acid content given fixed and volatile acidity. Evaluate this model on the test set. Discuss the performance of linear regression for this task.\n",
    " "
   ]
  },
  {
   "cell_type": "markdown",
   "id": "540deab4",
   "metadata": {},
   "source": [
    "Q: hence predict y given X\n",
    "\n",
    "Graphical View of Data to understand"
   ]
  },
  {
   "cell_type": "code",
   "execution_count": 15,
   "id": "6cb91c9b",
   "metadata": {},
   "outputs": [
    {
     "data": {
      "image/png": "[encoded data removed]",
      "text/plain": [
       "<Figure size 432x288 with 1 Axes>"
      ]
     },
     "metadata": {
      "needs_background": "light"
     },
     "output_type": "display_data"
    }
   ],
   "source": [
    "x = X[:,0]\n",
    "plt.plot(x,np.linspace(0,1,1599),'x')\n",
    "plt.title('Raw Data')\n",
    "plt.xlabel('$x$')\n",
    "plt.ylabel('$y$')\n",
    "plt.show()"
   ]
  },
  {
   "cell_type": "code",
   "execution_count": 16,
   "id": "571fdf84",
   "metadata": {},
   "outputs": [
    {
     "data": {
      "image/png": "[encoded data removed]",
      "text/plain": [
       "<Figure size 432x288 with 1 Axes>"
      ]
     },
     "metadata": {
      "needs_background": "light"
     },
     "output_type": "display_data"
    }
   ],
   "source": [
    "x = X[:,1]\n",
    "plt.plot(x,np.linspace(0,1,1599),'x')\n",
    "plt.title('Raw data')\n",
    "plt.xlabel('$x$')\n",
    "plt.ylabel('$y$')\n",
    "plt.show()"
   ]
  },
  {
   "cell_type": "code",
   "execution_count": 17,
   "id": "20cafbf3",
   "metadata": {},
   "outputs": [
    {
     "data": {
      "image/png": "[encoded data removed]",
      "text/plain": [
       "<Figure size 432x288 with 1 Axes>"
      ]
     },
     "metadata": {
      "needs_background": "light"
     },
     "output_type": "display_data"
    }
   ],
   "source": [
    "x = X[:,:]\n",
    "plt.plot(x,np.linspace(0,1,1599),'x')\n",
    "plt.title('Raw Data')\n",
    "plt.xlabel('$x$')\n",
    "plt.ylabel('$y$')\n",
    "plt.show()"
   ]
  },
  {
   "cell_type": "markdown",
   "id": "b0b0b91f",
   "metadata": {},
   "source": [
    "Applying Linear Regression to the Data X"
   ]
  },
  {
   "cell_type": "code",
   "execution_count": 18,
   "id": "583b0022",
   "metadata": {},
   "outputs": [
    {
     "name": "stdout",
     "output_type": "stream",
     "text": [
      "(1599, 2) \n",
      "(1599,) \n"
     ]
    }
   ],
   "source": [
    "p(X.shape)\n",
    "p(y.shape)\n"
   ]
  },
  {
   "cell_type": "code",
   "execution_count": 19,
   "id": "e6730875",
   "metadata": {},
   "outputs": [
    {
     "data": {
      "text/plain": [
       "LinearRegression()"
      ]
     },
     "execution_count": 19,
     "metadata": {},
     "output_type": "execute_result"
    }
   ],
   "source": [
    "mdl = LinearRegression()\n",
    "mdl.fit(trainX,trainY)"
   ]
  },
  {
   "cell_type": "code",
   "execution_count": 20,
   "id": "98f2184c",
   "metadata": {},
   "outputs": [
    {
     "name": "stdout",
     "output_type": "stream",
     "text": [
      "MSE =  0.015505513350040686 R2 score = 0.4587952717584064 \n"
     ]
    },
    {
     "name": "stderr",
     "output_type": "stream",
     "text": [
      "C:\\Users\\noelh\\anaconda3\\lib\\site-packages\\sklearn\\utils\\validation.py:63: FutureWarning: Arrays of bytes/strings is being converted to decimal numbers if dtype='numeric'. This behavior is deprecated in 0.24 and will be removed in 1.1 (renaming of 0.26). Please convert your data to numeric values explicitly instead.\n",
      "  return f(*args, **kwargs)\n",
      "C:\\Users\\noelh\\anaconda3\\lib\\site-packages\\sklearn\\utils\\validation.py:63: FutureWarning: Arrays of bytes/strings is being converted to decimal numbers if dtype='numeric'. This behavior is deprecated in 0.24 and will be removed in 1.1 (renaming of 0.26). Please convert your data to numeric values explicitly instead.\n",
      "  return f(*args, **kwargs)\n"
     ]
    }
   ],
   "source": [
    "test_predictions = mdl.predict(testX)\n",
    "MSETest = mean_squared_error(testY,test_predictions)\n",
    "R2_score = r2_score(testY,test_predictions)\n",
    "p(\"MSE = \",MSETest,\n",
    "  \"R2 score =\",R2_score)"
   ]
  },
  {
   "cell_type": "markdown",
   "id": "659d9e3f",
   "metadata": {},
   "source": [
    "The preformance of linear regression can be valued in terms of the Mean Squared Error and R\" score seen above. The seen mean squared error is relatively small indicating a close to true value aproximation for the linear regression model, and the R2 score is greater than 0 but below 1 impying that the model is behaving better than a naive model but is not perfect."
   ]
  },
  {
   "cell_type": "markdown",
   "id": "6412e906",
   "metadata": {},
   "source": [
    "## Task 1.8. With the help of matplotlib, plot the prediction of your linear regression model w.r.t. the values of fixed acidity and volatile acidity. More precisely, plot a grid where the horizontal axis represents fixed acidity, the vertical axis volatile acidity, and each point (x0, x1) of the grid is coloured based on the prediction of your linear regression model for the citric acid value given fixed acidity x0 and volatile acidity x1. Choose suitable ranges and labels for the two axes. Does this plot show something interesting about the relationship between these three quantities? If so, describe your findings."
   ]
  },
  {
   "cell_type": "code",
   "execution_count": 21,
   "id": "99e75225",
   "metadata": {},
   "outputs": [
    {
     "name": "stdout",
     "output_type": "stream",
     "text": [
      "[ 0.06383861 -0.44734323] \n",
      "-0.026080707233513356 \n",
      "Predicted linear function: f(x) = 0.06383860649882135*x + -0.026080707233513356\n",
      "Predicted linear function: g(x) = -0.4473432302405974*x + -0.026080707233513356\n"
     ]
    }
   ],
   "source": [
    "p(mdl.coef_)\n",
    "p(mdl.intercept_)\n",
    "print('Predicted linear function: f(x) = ' + str(mdl.coef_[0,]) + '*x + ' + str(mdl.intercept_))\n",
    "print('Predicted linear function: g(x) = ' + str(mdl.coef_[1,]) + '*x + ' + str(mdl.intercept_))"
   ]
  },
  {
   "cell_type": "code",
   "execution_count": 22,
   "id": "7a90c3d1",
   "metadata": {},
   "outputs": [],
   "source": [
    "def MakeLinspace(array): # function to make a linspace of the array we supply\n",
    "    lowerBound = int(min(y))\n",
    "    upperBound = int(max(y))\n",
    "    nValues = int(len(y))\n",
    "    Ans = np.linspace(lowerBound,upperBound,nValues)\n",
    "    return(Ans) # Ans was an np.linspace of the array supplied to the fucntion"
   ]
  },
  {
   "cell_type": "code",
   "execution_count": 23,
   "id": "91f762d2",
   "metadata": {},
   "outputs": [],
   "source": [
    "yRange = MakeLinspace(y) #define np.linspace "
   ]
  },
  {
   "cell_type": "code",
   "execution_count": 24,
   "id": "fda1b7da",
   "metadata": {},
   "outputs": [],
   "source": [
    "x0Range = MakeLinspace(X[:,0]) "
   ]
  },
  {
   "cell_type": "code",
   "execution_count": 25,
   "id": "a81f8c39",
   "metadata": {},
   "outputs": [
    {
     "data": {
      "image/png": "[encoded data removed]",
      "text/plain": [
       "<Figure size 432x288 with 1 Axes>"
      ]
     },
     "metadata": {
      "needs_background": "light"
     },
     "output_type": "display_data"
    }
   ],
   "source": [
    "#Plotting against only X[:,0] values \n",
    "plt.plot(X[:,0],yRange,'x')\n",
    "plt.plot([0,16],[mdl.intercept_,(16)*mdl.coef_[0,]+mdl.intercept_])\n",
    "\n",
    "plt.title('Fixed Acidity against X values with linear regression model')\n",
    "plt.xlabel('$x$')\n",
    "plt.ylabel('$y$')\n",
    "\n",
    "plt.show()"
   ]
  },
  {
   "cell_type": "code",
   "execution_count": 26,
   "id": "536cda46",
   "metadata": {},
   "outputs": [
    {
     "data": {
      "image/png": "[encoded data removed]",
      "text/plain": [
       "<Figure size 432x288 with 1 Axes>"
      ]
     },
     "metadata": {
      "needs_background": "light"
     },
     "output_type": "display_data"
    }
   ],
   "source": [
    "#Plotting agaisnt only x[:,1] values\n",
    "x1Range = MakeLinspace(X[:,1])\n",
    "\n",
    "plt.plot(X[:,1],yRange,'x')\n",
    "plt.plot([0,16],[mdl.intercept_,(16)*mdl.coef_[0,]+mdl.intercept_])\n",
    "\n",
    "plt.title('Volatile Acidity against y values with Linear regression model')\n",
    "plt.xlabel('$x$')\n",
    "plt.ylabel('$y$')\n",
    "\n",
    "plt.show()"
   ]
  },
  {
   "cell_type": "markdown",
   "id": "efd186c2",
   "metadata": {},
   "source": [
    "making the plot they asked for,\n",
    "\n",
    "More precisely, plot a grid where the horizontal axis represents fixed acidity, the vertical axis volatile acidity, and each point (x0, x1) of the grid is coloured based on the prediction of your linear regression model for the citric acid value given fixed acidity x0 and volatile acidity x1. "
   ]
  },
  {
   "cell_type": "code",
   "execution_count": 27,
   "id": "4368f8ea",
   "metadata": {},
   "outputs": [
    {
     "data": {
      "text/plain": [
       "[<matplotlib.lines.Line2D at 0x14a70416040>]"
      ]
     },
     "execution_count": 27,
     "metadata": {},
     "output_type": "execute_result"
    },
    {
     "data": {
      "image/png": "[encoded data removed]",
      "text/plain": [
       "<Figure size 432x288 with 1 Axes>"
      ]
     },
     "metadata": {
      "needs_background": "light"
     },
     "output_type": "display_data"
    }
   ],
   "source": [
    "#Plotting the linear regression line against the values of volatile acidity and fixed\n",
    "plt.plot(X[:,0],X[:,1],'x')\n",
    "#labelling axis and title\n",
    "plt.title('Volatile Acidity against y values with Linear regression model')\n",
    "plt.xlabel('fixed acidity')\n",
    "plt.ylabel('volatile acidity')\n",
    "#adding line from linear regression \n",
    "plt.plot([0,16],[mdl.intercept_,(16)*mdl.coef_[0,]+mdl.intercept_])\n"
   ]
  },
  {
   "cell_type": "markdown",
   "id": "1896977e",
   "metadata": {},
   "source": [
    "### Task 1.9. Construct a data set (X2,y2) where each row of the n × 11 matrix X2 corresponds to a wine, while each column of X2 corresponds to one of the first 11 attributes contained in the file wines.csv (i.e., all attributes apart from the quality of the wines). y2 is a binary vector of zeroes and ones, where the i-th entry is equal to one if the quality of the i-th wine is at least equal to 6 (if y2[i] == 1, we say that the i-th wine is of good quality)."
   ]
  },
  {
   "cell_type": "code",
   "execution_count": 28,
   "id": "3b3d7db5",
   "metadata": {},
   "outputs": [
    {
     "name": "stdout",
     "output_type": "stream",
     "text": [
      "  fixed acidity volatile acidity citric acid residual sugar chlorides  \\\n",
      "0           7.4              0.7           0            1.9     0.076   \n",
      "1           7.8             0.88           0            2.6     0.098   \n",
      "2           7.8             0.76        0.04            2.3     0.092   \n",
      "3          11.2             0.28        0.56            1.9     0.075   \n",
      "4           7.4              0.7           0            1.9     0.076   \n",
      "\n",
      "  free sulfur dioxide total sulfur dioxide density    pH sulphates alcohol  y2  \n",
      "0                  11                   34  0.9978  3.51      0.56     9.4   0  \n",
      "1                  25                   67  0.9968   3.2      0.68     9.8   0  \n",
      "2                  15                   54   0.997  3.26      0.65     9.8   0  \n",
      "3                  17                   60   0.998  3.16      0.58     9.8   1  \n",
      "4                  11                   34  0.9978  3.51      0.56     9.4   0   \n"
     ]
    }
   ],
   "source": [
    "#Lets collect the Series we need from the Dataset first \n",
    "\n",
    "#a dataframe of fixed acidity and volatile acidity \n",
    "C = dfA[[\"fixed acidity\",\"volatile acidity\",\"citric acid\",\"residual sugar\",\"chlorides\",\n",
    "         \"free sulfur dioxide\",\"total sulfur dioxide\",\"density\",\"pH\",\"sulphates\",\"alcohol\"]]\n",
    "#convert datafram to array \n",
    "D = C.to_numpy()\n",
    "#convert array to matrix\n",
    "X2 = np.asmatrix(D)\n",
    "\n",
    "#now to get the binary collumn as described for quality\n",
    "E = (dfA.quality >= 6)*1 \n",
    "\n",
    "#convert Series to array \n",
    "F = E.to_numpy()\n",
    "#convert array to matrix\n",
    "G = np.asmatrix(F)\n",
    "y2 = np.transpose(G)\n",
    "\n",
    "\n",
    "C[\"y2\"] = E\n",
    "#C is now a full dataframe of the data we wanted and the matricies, X2 and y2 have been made\n",
    "p(C.head())"
   ]
  },
  {
   "cell_type": "code",
   "execution_count": 29,
   "id": "070c8ce3",
   "metadata": {},
   "outputs": [
    {
     "name": "stdout",
     "output_type": "stream",
     "text": [
      "(1599, 11) \n",
      "(1599, 1) \n"
     ]
    }
   ],
   "source": [
    "p(X2.shape)\n",
    "p(y2.shape)"
   ]
  },
  {
   "cell_type": "markdown",
   "id": "6b0ae888",
   "metadata": {},
   "source": [
    "## Task 1.10. Use a scikit-learn Nearest Neighbours classifier to distinguish good and bad quality wines. Discuss the performances of Nearest Neighbours for this task."
   ]
  },
  {
   "cell_type": "code",
   "execution_count": 30,
   "id": "6a92140b",
   "metadata": {},
   "outputs": [
    {
     "name": "stdout",
     "output_type": "stream",
     "text": [
      "(1599, 11)\n",
      "(1599,)\n"
     ]
    }
   ],
   "source": [
    "print(X2.shape)\n",
    "#as we need our y2 to be a numpy array for later, we set the array for to be y2 uinstead of the matrix. \n",
    "y2 = F\n",
    "print(y.shape)"
   ]
  },
  {
   "cell_type": "code",
   "execution_count": 31,
   "id": "2d4c4acf",
   "metadata": {},
   "outputs": [
    {
     "name": "stdout",
     "output_type": "stream",
     "text": [
      "True \n",
      "The best amount of K nearest neighbors to use is =  21 \n"
     ]
    },
    {
     "data": {
      "image/png": "[encoded data removed]",
      "text/plain": [
       "<Figure size 432x288 with 1 Axes>"
      ]
     },
     "metadata": {
      "needs_background": "light"
     },
     "output_type": "display_data"
    }
   ],
   "source": [
    "#as any index of X2 is the same length ...\n",
    "n = X2.shape[0]\n",
    "#randomise\n",
    "P = np.random.permutation(n)\n",
    "#get the amount of values i need for train and test \n",
    "trainNum = int(round(n*0.8))\n",
    "testNum = n - trainNum\n",
    "#get the actual n amount of values i need via variables above \n",
    "trainVals = P[TestNum:] #80% of the random values \n",
    "testVals = P[:TestNum] #the other bit of random numbers to be tested on \n",
    "#Find the best Value of K \n",
    "\n",
    "#define range of K values \n",
    "ValueOfK = []\n",
    "for i in range(1,int(round(n/10))):\n",
    "    ValueOfK.append(i)\n",
    "\n",
    "#answer array for later \n",
    "PercentageAccuray = np.empty(len(ValueOfK))\n",
    "\n",
    "for i in range(len(ValueOfK)):\n",
    "    mdl = KNeighborsClassifier(n_neighbors=ValueOfK[i])\n",
    "    mdl.fit(X2[trainVals],y2[trainVals])\n",
    "    Prediction = mdl.predict(X2[testVals])\n",
    "    if i == 0:\n",
    "        p(len(Prediction)==len(y2[testVals]))\n",
    "    \n",
    "    #all the predictions that are correct are added and percentage is added to answer array defined above \n",
    "    PercentageAccuray[i] = sum(Prediction==y2[testVals])/testNum\n",
    "\n",
    "#plotting \n",
    "plt.plot(ValueOfK,PercentageAccuray)\n",
    "plt.xlabel('ValueOfK')\n",
    "plt.ylabel('Percentage Acuracy')\n",
    "\n",
    "#finding the best k value \n",
    "BestK = 0\n",
    "for i in range(len(PercentageAccuray)):\n",
    "    if PercentageAccuray[i] == max(PercentageAccuray):\n",
    "        BestK = i+1\n",
    "\n",
    "p(\"The best amount of K nearest neighbors to use is = \", BestK)"
   ]
  },
  {
   "cell_type": "code",
   "execution_count": 32,
   "id": "af90f15c",
   "metadata": {},
   "outputs": [
    {
     "name": "stdout",
     "output_type": "stream",
     "text": [
      "There are  847  Good Predicted wines from the total DataSet \n",
      "There are  855  Good Confirmed wines from the total DataSet \n",
      "Percentage error =  0.5847953216374269 % \n"
     ]
    }
   ],
   "source": [
    "#Now we have found the besk K, lets review the K nearest neigbors prediction with n_neighbors = BestK = 1.\n",
    "#train\n",
    "mdl = KNeighborsClassifier(n_neighbors=BestK)\n",
    "mdl.fit(X2[trainVals],y2[trainVals])\n",
    "Prediction = mdl.predict(X2[:])\n",
    "\n",
    "#defining arrays for later \n",
    "GoodWineIndexes = []\n",
    "ConfirmedGoodWineIndexes = []\n",
    "\n",
    "#finding the percentage of correct wines \n",
    "for i in range(len(Prediction)):\n",
    "    if E[i] == 1: # E was the binary column for  as described for quality >=6\n",
    "        ConfirmedGoodWineIndexes.append(i)\n",
    "    if Prediction[i] == 1:\n",
    "        GoodWineIndexes.append(i)\n",
    "        \n",
    "\n",
    "#preing resulting outputs \n",
    "\n",
    "p(\"There are \",len(GoodWineIndexes), \" Good Predicted wines from the total DataSet\")\n",
    "p(\"There are \",len(ConfirmedGoodWineIndexes), \" Good Confirmed wines from the total DataSet\")\n",
    "\n",
    "a = len(GoodWineIndexes)\n",
    "b = len(ConfirmedGoodWineIndexes)\n",
    "error = (5/855)*100\n",
    "p(\"Percentage error = \",error, \"%\")"
   ]
  },
  {
   "cell_type": "markdown",
   "id": "b9b4af77",
   "metadata": {},
   "source": [
    "This method has proved fairly accurate with a percentage error of 0.5%, once the most accurate value for K had been found and selected."
   ]
  },
  {
   "cell_type": "markdown",
   "id": "ebff1b89",
   "metadata": {},
   "source": [
    "# 2. Network Analysis (40 marks total)\n",
    "This question is focussed on the manipulation and analysis of networks.\n",
    "The files graph1.txt and graph2.txt contain the edge lists of two different graphs. One of them represents a network that has been synthetically generated, while the other represents a “real world” network.\n",
    "In this section, you will first compute basic network quantities of the two graphs. Then, you will try to\n",
    "deduce which graph represents the “real world” network and which one represents the one I synthetically\n",
    "generated. Finally, you will use tools from network analysis, together with information provided in the file\n",
    "la info.csv, to answer questions about demographic properties related to geographic regions of England\n",
    "and Wales.\n"
   ]
  },
  {
   "cell_type": "markdown",
   "id": "a9312b86",
   "metadata": {},
   "source": [
    "## Task 2.1. Load the graphs stored in graph1.txt and graph2.txt into two networkx Graph objects named G1 and G2, respectively."
   ]
  },
  {
   "cell_type": "code",
   "execution_count": 33,
   "id": "c0ebd8f7",
   "metadata": {},
   "outputs": [],
   "source": [
    "G1 = nx.read_edgelist(\"graph1.txt\", delimiter=\" \")\n",
    "G2 = nx.read_edgelist(\"graph2.txt\", delimiter=\" \") "
   ]
  },
  {
   "cell_type": "markdown",
   "id": "a8d163e8",
   "metadata": {},
   "source": [
    "## Task 2.2. Compute the number of nodes and edges of both graphs.\n"
   ]
  },
  {
   "cell_type": "code",
   "execution_count": 34,
   "id": "550d542f",
   "metadata": {},
   "outputs": [
    {
     "name": "stdout",
     "output_type": "stream",
     "text": [
      "G1 is a Graph with 350 nodes and 1842 edges \n",
      "G2 is a Graph with 350 nodes and 1851 edges \n"
     ]
    }
   ],
   "source": [
    "p(\"G1 is a\",G1)\n",
    "p(\"G2 is a\",G2)"
   ]
  },
  {
   "cell_type": "code",
   "execution_count": 35,
   "id": "2926b245",
   "metadata": {},
   "outputs": [
    {
     "name": "stdout",
     "output_type": "stream",
     "text": [
      "no. edges in G1 = 1842\n",
      "no. nodes in G1 = 350\n",
      "no. edges in G2 = 1851\n",
      "no. nodes in G2 = 350\n"
     ]
    }
   ],
   "source": [
    "#or if this is not suffcient...\n",
    "\n",
    "print(\"no. edges in G1 = \" + str(len(G1.edges)))\n",
    "print(\"no. nodes in G1 = \" + str(len(G1.nodes)))\n",
    "print(\"no. edges in G2 = \" + str(len(G2.edges)))\n",
    "print(\"no. nodes in G2 = \" + str(len(G2.nodes)))"
   ]
  },
  {
   "cell_type": "markdown",
   "id": "4a99b444",
   "metadata": {},
   "source": [
    "## Task 2.3. How many connected components do G1 and G2 have? What is the size and diameter of the largest connected components of G1 and G2?"
   ]
  },
  {
   "cell_type": "code",
   "execution_count": 36,
   "id": "f9331640",
   "metadata": {},
   "outputs": [
    {
     "name": "stdout",
     "output_type": "stream",
     "text": [
      "Connected components in G1 =  1 \n",
      "Connected components in G2 =  2 \n"
     ]
    }
   ],
   "source": [
    "p(\"Connected components in G1 = \", nx.number_connected_components(G1))\n",
    "p(\"Connected components in G2 = \", nx.number_connected_components(G2))"
   ]
  },
  {
   "cell_type": "code",
   "execution_count": 37,
   "id": "e8a1af21",
   "metadata": {},
   "outputs": [
    {
     "name": "stdout",
     "output_type": "stream",
     "text": [
      "diameter of G1 is = 4 \n"
     ]
    }
   ],
   "source": [
    "p(\"diameter of G1 is =\", nx.diameter(G1))"
   ]
  },
  {
   "cell_type": "markdown",
   "id": "24446ea1",
   "metadata": {},
   "source": [
    "As there are more than one connected components in G2 we have to look at each connected component individually"
   ]
  },
  {
   "cell_type": "code",
   "execution_count": 38,
   "id": "a50f9a13",
   "metadata": {},
   "outputs": [
    {
     "name": "stdout",
     "output_type": "stream",
     "text": [
      "diameter of G2 is = 6 \n"
     ]
    }
   ],
   "source": [
    "#Find the smaller component\n",
    "\n",
    "g2cclengths = []\n",
    "for cc in nx.connected_components(G2):\n",
    "    g2cclengths.append(int(len(cc)))\n",
    "    \n",
    "#Remove the smaller component \n",
    "\n",
    "for cc in list(nx.connected_components(G2)):\n",
    "    if len(cc)<min(g2cclengths)+1:\n",
    "        for node in cc:\n",
    "            G2.remove_node(node)\n",
    "            \n",
    "#Now G2 has only one connected component, so we can just...\n",
    "\n",
    "p(\"diameter of G2 is =\", nx.diameter(G2))"
   ]
  },
  {
   "cell_type": "code",
   "execution_count": 39,
   "id": "801a7948",
   "metadata": {},
   "outputs": [
    {
     "name": "stdout",
     "output_type": "stream",
     "text": [
      "Size of G1 =  1842 \n",
      "Size of G2 =  1850 \n"
     ]
    }
   ],
   "source": [
    "p(\"Size of G1 = \", G1.size())\n",
    "p(\"Size of G2 = \", G2.size())"
   ]
  },
  {
   "cell_type": "markdown",
   "id": "91f2b86d",
   "metadata": {},
   "source": [
    "## Given info\n",
    "The “real world” network has been generated as follows.\n",
    "\n",
    "Nodes represent geographic areas associated with a local authority in England or Wales (“Bath and North East Somerset” and “City of Bristol” are examples of such local authorities).\n",
    "Two nodes u and v are connected by an edge if and only if many people have moved between the two corresponding geographic areas in a certain period of time. Here, many means a number of people larger than a certain number t, which is not known to us. \n",
    "\n",
    "The synthetic network, instead, represents a graph sampled from the G(n, p) model, i.e., a graph of n\n",
    "nodes where each pair of nodes is connected by an edge with probability p, for some p ∈ (0, 1)."
   ]
  },
  {
   "cell_type": "markdown",
   "id": "f64f8063",
   "metadata": {},
   "source": [
    "## Task 2.4. Explain which of the two graphs G1 or G2 represents the real world network. Provide numerical evidence to support your answer."
   ]
  },
  {
   "cell_type": "markdown",
   "id": "3c3b474f",
   "metadata": {},
   "source": [
    "### Explanation of the code to follow:\n",
    "To compare the graphs, we shall use The Average Clustering Coefficient. By definition, a random synthetic network, represented by a graph sampled from the G(n, p) model, with each pair of nodes connected by an edge with probability p, for some p ∈ (0, 1). This implies that the edges are independent of each other, and knowing one edge will tell you no information about the next. However, in the \"real world\" network, it is NOT independent, that if one node (big city) is connected to another node (smaller city), and some third node (another smaller city) is connected to the first node (big city), we can expect the two other nodes to also be connected. \n",
    "In English, the \"real world\" graph will have a HIGHER betweeness Average Clustering Coefficient than the Synthetic Network. "
   ]
  },
  {
   "cell_type": "code",
   "execution_count": 40,
   "id": "cdea9a51",
   "metadata": {},
   "outputs": [],
   "source": [
    "#First return the G2 graph back to the original graph by reading the file again.\n",
    "G2 = nx.read_edgelist(\"graph2.txt\", delimiter=\" \")"
   ]
  },
  {
   "cell_type": "code",
   "execution_count": 41,
   "id": "7fcbd1a8",
   "metadata": {},
   "outputs": [
    {
     "name": "stdout",
     "output_type": "stream",
     "text": [
      "G1 Avg Clustering Coef =  0.034961490521862024 \n",
      "G2 Avg Clustering Coef =  0.5595545045947367 \n"
     ]
    }
   ],
   "source": [
    "p(\"G1 Avg Clustering Coef = \", nx.average_clustering(G1))\n",
    "p(\"G2 Avg Clustering Coef = \", nx.average_clustering(G2))"
   ]
  },
  {
   "cell_type": "markdown",
   "id": "ce86bcb3",
   "metadata": {},
   "source": [
    "G2 has a higher Average Clustering Coefficient implying that it is more representing of a \"real world\" netowrk."
   ]
  },
  {
   "cell_type": "markdown",
   "id": "e8505719",
   "metadata": {},
   "source": [
    "# Given Info \n",
    "The file la info.csv contains information about the geographic areas that are represented by nodes in the\n",
    "“real world” network. In particular, the i-th row of la info.csv contains information about the geographic\n",
    "area represented by the i-th node in the graph. The following attributes are recorded:\n",
    "\n",
    "Code: a string representing the code of the local authority responsible for the corresponding geographic\n",
    "area;\n",
    "\n",
    "Name: a string representing the name of the corresponding local authority;\n",
    "\n",
    "Northing: a number representing the Northing of a reference point in the geographic area;\n",
    "\n",
    "Easting: a number representing the Easting of a reference point in the geographic area;\n",
    "\n",
    "Population: the number of people residing in the corresponding geographic area.\n",
    "\n",
    "Northings and Eastings are a two-dimensional coordinate system to reference geographical places in the UK.\n",
    "For example, if a place has coordinates Northing 531474 and Easting 447160, it means it is 531.474 km\n",
    "north and 447.160 km east from the point that has coordinates Northing 0 Easting 0 (which is somewhere\n",
    "south west of the Isles of Scilly).\n",
    "\n",
    "Note that la info.csv contains some missing values.\n"
   ]
  },
  {
   "cell_type": "markdown",
   "id": "9e061a67",
   "metadata": {},
   "source": [
    "## Task 2.5. Explain the relationship between the population of a geographic area and properties of the nodes of the “real world” network (such as their degree centrality). Support your answer with empirical evidence."
   ]
  },
  {
   "cell_type": "code",
   "execution_count": 42,
   "id": "ffef4ccb",
   "metadata": {},
   "outputs": [
    {
     "data": {
      "text/html": [
       "<div>\n",
       "<style scoped>\n",
       "    .dataframe tbody tr th:only-of-type {\n",
       "        vertical-align: middle;\n",
       "    }\n",
       "\n",
       "    .dataframe tbody tr th {\n",
       "        vertical-align: top;\n",
       "    }\n",
       "\n",
       "    .dataframe thead th {\n",
       "        text-align: right;\n",
       "    }\n",
       "</style>\n",
       "<table border=\"1\" class=\"dataframe\">\n",
       "  <thead>\n",
       "    <tr style=\"text-align: right;\">\n",
       "      <th></th>\n",
       "      <th>Unnamed: 0</th>\n",
       "      <th>Code</th>\n",
       "      <th>Name</th>\n",
       "      <th>Northing</th>\n",
       "      <th>Easting</th>\n",
       "      <th>Population</th>\n",
       "    </tr>\n",
       "  </thead>\n",
       "  <tbody>\n",
       "    <tr>\n",
       "      <th>0</th>\n",
       "      <td>0</td>\n",
       "      <td>E06000001</td>\n",
       "      <td>Hartlepool</td>\n",
       "      <td>531474.0</td>\n",
       "      <td>447160.0</td>\n",
       "      <td>93,836</td>\n",
       "    </tr>\n",
       "    <tr>\n",
       "      <th>1</th>\n",
       "      <td>1</td>\n",
       "      <td>E06000002</td>\n",
       "      <td>Middlesbrough</td>\n",
       "      <td>516887.0</td>\n",
       "      <td>451141.0</td>\n",
       "      <td>141,285</td>\n",
       "    </tr>\n",
       "    <tr>\n",
       "      <th>2</th>\n",
       "      <td>2</td>\n",
       "      <td>E06000003</td>\n",
       "      <td>Redcar and Cleveland</td>\n",
       "      <td>519597.0</td>\n",
       "      <td>464361.0</td>\n",
       "      <td>137,228</td>\n",
       "    </tr>\n",
       "    <tr>\n",
       "      <th>3</th>\n",
       "      <td>3</td>\n",
       "      <td>E06000004</td>\n",
       "      <td>Stockton-on-Tees</td>\n",
       "      <td>518183.0</td>\n",
       "      <td>444940.0</td>\n",
       "      <td>197,419</td>\n",
       "    </tr>\n",
       "    <tr>\n",
       "      <th>4</th>\n",
       "      <td>4</td>\n",
       "      <td>E06000005</td>\n",
       "      <td>Darlington</td>\n",
       "      <td>515648.0</td>\n",
       "      <td>428029.0</td>\n",
       "      <td>107,402</td>\n",
       "    </tr>\n",
       "  </tbody>\n",
       "</table>\n",
       "</div>"
      ],
      "text/plain": [
       "   Unnamed: 0       Code                  Name  Northing   Easting Population\n",
       "0           0  E06000001            Hartlepool  531474.0  447160.0     93,836\n",
       "1           1  E06000002         Middlesbrough  516887.0  451141.0    141,285\n",
       "2           2  E06000003  Redcar and Cleveland  519597.0  464361.0    137,228\n",
       "3           3  E06000004      Stockton-on-Tees  518183.0  444940.0    197,419\n",
       "4           4  E06000005            Darlington  515648.0  428029.0    107,402"
      ]
     },
     "execution_count": 42,
     "metadata": {},
     "output_type": "execute_result"
    }
   ],
   "source": [
    "#Read Information csv into Dataframe\n",
    "df = pd.read_csv(\"la_info.csv\")\n",
    "df.head()"
   ]
  },
  {
   "cell_type": "code",
   "execution_count": 43,
   "id": "7efaa082",
   "metadata": {},
   "outputs": [],
   "source": [
    "df = df.fillna(0) #Cleaing NANs from Dataset without removing them  "
   ]
  },
  {
   "cell_type": "markdown",
   "id": "bc476188",
   "metadata": {},
   "source": [
    "## Using the data Given\n",
    "To use the Data given in \"la_info.csv\", I intend on associating it to the Graph i found most like the real world Model, G2. Upon coding this i found it was easier to create a Third Graph, G3, of which I append the nodes from G2 with the given information from the \"la_info.csv\" associated to the Node. "
   ]
  },
  {
   "cell_type": "code",
   "execution_count": 44,
   "id": "3c068ec4",
   "metadata": {},
   "outputs": [],
   "source": [
    "#Get the Data from each row as a Dict \n",
    "\n",
    "def FetchDictValues(i):\n",
    "    #fetch Row from DataFrame\n",
    "    row = df.iloc[[i]]\n",
    "    \n",
    "    #Convert Series (row), to Dictionary \n",
    "    Dict = row.to_dict()\n",
    "    \n",
    "    #Return Dictionary\n",
    "    return(Dict)"
   ]
  },
  {
   "cell_type": "code",
   "execution_count": 45,
   "id": "f6fb1c2f",
   "metadata": {},
   "outputs": [
    {
     "name": "stdout",
     "output_type": "stream",
     "text": [
      "example: (masterList[5][1]['Name']) : {4: 'Darlington'} \n"
     ]
    }
   ],
   "source": [
    "\n",
    "#Define Variables used\n",
    "masterList = []\n",
    "tempTuple = ()\n",
    "\n",
    "for i in range(len(G2.nodes())): # For every Node in the G2 network\n",
    "    \n",
    "    #each row fetched as dictionary\n",
    "    Dict = FetchDictValues(i)\n",
    "    \n",
    "    #number and dict appended as tuple\n",
    "    tempTuple = (i,Dict)\n",
    "    \n",
    "    #tuple appened to list \n",
    "    masterList.append(tempTuple)\n",
    "    \n",
    "#example\n",
    "print(\"example: (masterList[5][1]['Name'])\", end = \" : \")\n",
    "p((masterList[4][1][\"Name\"]))\n",
    "\n",
    "    "
   ]
  },
  {
   "cell_type": "code",
   "execution_count": 46,
   "id": "902a59fc",
   "metadata": {},
   "outputs": [
    {
     "name": "stdout",
     "output_type": "stream",
     "text": [
      "('0', '1') \n"
     ]
    }
   ],
   "source": [
    "#Define G3 as the graph with all the information from the la_info.csv file mapped to G2.\n",
    "G3 = nx.Graph()\n",
    "\n",
    "#Add the nodes from the Data extracted from G2 via the List, MasterList  \n",
    "G3.add_nodes_from(masterList)\n",
    "\n",
    "#Retrieve all the edges from G2 and append them to a ListOfEdges.\n",
    "ListOfEdges =[]\n",
    "for i in G2.edges:\n",
    "    ListOfEdges.append(i)\n",
    "\n",
    "p(ListOfEdges[0])\n",
    "\n",
    "#For every edge in the list of edges \n",
    "\n",
    "for i in ListOfEdges:\n",
    "\n",
    "    #for every two nodes, a,b, in the edge, we add the edges to G3\n",
    "    a = int(i[0])\n",
    "    b = int(i[1])\n",
    "    \n",
    "    G3.add_edge(a,b)"
   ]
  },
  {
   "cell_type": "code",
   "execution_count": 47,
   "id": "b54fc37f",
   "metadata": {},
   "outputs": [
    {
     "name": "stdout",
     "output_type": "stream",
     "text": [
      "Example to show the Graphes have the same nodes and the same edges: \n",
      "G3 =  Graph with 350 nodes and 1851 edges \n",
      "G2 =  Graph with 350 nodes and 1851 edges \n"
     ]
    }
   ],
   "source": [
    "#printing outputs\n",
    "p(\"Example to show the Graphes have the same nodes and the same edges:\")\n",
    "p(\"G3 = \",G3)\n",
    "p(\"G2 = \",G2)"
   ]
  },
  {
   "cell_type": "markdown",
   "id": "aab6b388",
   "metadata": {},
   "source": [
    "Hence G3 is the inormation filled graph replica of G2"
   ]
  },
  {
   "cell_type": "markdown",
   "id": "b3dfa0d2",
   "metadata": {},
   "source": [
    "## Asess Degree Centrality"
   ]
  },
  {
   "cell_type": "code",
   "execution_count": 48,
   "id": "dec693d1",
   "metadata": {},
   "outputs": [],
   "source": [
    "#Name dictionary for ease\n",
    "dict_degree_centrality = nx.degree_centrality(G3)\n",
    "\n",
    "#sort the dictionary based on item[1], which is the 'values' of the dict and hence the Degree Centrality\n",
    "sortedDegCent_dict = dict(sorted(dict_degree_centrality.items(), key=lambda item: item[1]))"
   ]
  },
  {
   "cell_type": "code",
   "execution_count": 49,
   "id": "1510b935",
   "metadata": {},
   "outputs": [],
   "source": [
    "#Printing the Top 10 VALUE Nodes\n",
    "\n",
    "#sorted_dict is a Sorted Dictionary with index of the nodes as Keys, and Values depends on the Dictionary sent in.\n",
    "#String is a string allowing information for the output to make more sense \n",
    "\n",
    "def PrintTopTen(sorted_dict, String):\n",
    "\n",
    "    #List to keep all the indexes of the Biggest Valued Nodes\n",
    "    BiggestIndexes = []\n",
    "    \n",
    "    values = list(sorted_dict.values()) #list sorted smallest to largest\n",
    "    values.reverse()  #list sorted largest to smallest \n",
    "    \n",
    "    keys = list(sorted_dict.keys()) #list sorted smallest to largest\n",
    "    keys.reverse() #list sorted largest to smallest \n",
    "    \n",
    "    for i in range(0,10): #For the Top Ten Nodes \n",
    "        \n",
    "        #Append the index to the List of boggest indexes \n",
    "        BiggestIndexes.append(keys[i])\n",
    "        \n",
    "        #Print a Fancy Output of the Node and the Value we care about \n",
    "        print(\"The number\", i+1,\"biggest\", String, \"is,\",\n",
    "              df.Name[keys[i]],\" index\", keys[i], \"with\", String, \"of :\", round(values[i],3) )\n",
    "    \n",
    "    #Return The list of Indexes we want \n",
    "    return(BiggestIndexes)"
   ]
  },
  {
   "cell_type": "code",
   "execution_count": 50,
   "id": "b085996b",
   "metadata": {},
   "outputs": [
    {
     "name": "stdout",
     "output_type": "stream",
     "text": [
      "The number 1 biggest Degree Centrality is, Birmingham  index 280 with Degree Centrality of : 0.235\n",
      "The number 2 biggest Degree Centrality is, 0  index 327 with Degree Centrality of : 0.218\n",
      "The number 3 biggest Degree Centrality is, Leeds  index 290 with Degree Centrality of : 0.183\n",
      "The number 4 biggest Degree Centrality is, Manchester  index 259 with Degree Centrality of : 0.175\n",
      "The number 5 biggest Degree Centrality is, Wandsworth  index 324 with Degree Centrality of : 0.135\n",
      "The number 6 biggest Degree Centrality is, Bristol, City of  index 22 with Degree Centrality of : 0.132\n",
      "The number 7 biggest Degree Centrality is, Lambeth  index 314 with Degree Centrality of : 0.115\n",
      "The number 8 biggest Degree Centrality is, Ealing  index 301 with Degree Centrality of : 0.115\n",
      "The number 9 biggest Degree Centrality is, Barnet  index 295 with Degree Centrality of : 0.115\n",
      "The number 10 biggest Degree Centrality is, Sheffield  index 275 with Degree Centrality of : 0.115\n"
     ]
    }
   ],
   "source": [
    "#Call the PrintTopTen() Function to return the List of Biggest Valued Indexes for the desrired dictionary values. \n",
    "BiggestDegCentIndexes = PrintTopTen(sortedDegCent_dict,String = \"Degree Centrality\")"
   ]
  },
  {
   "cell_type": "markdown",
   "id": "84b3c4de",
   "metadata": {},
   "source": [
    "Using these indexes we can see each corresponding city information. We should expect that the \"biggest\" or \"most important\" nodes are the ones with highest degree centrality, implying that these cities are some of the largest cities in the data set. We can check on the population data with respect to the top Degree Centrality cities. \n"
   ]
  },
  {
   "cell_type": "code",
   "execution_count": 51,
   "id": "7330955f",
   "metadata": {},
   "outputs": [
    {
     "name": "stderr",
     "output_type": "stream",
     "text": [
      "C:\\Users\\noelh\\AppData\\Local\\Temp/ipykernel_17416/2503106700.py:13: SettingWithCopyWarning: \n",
      "A value is trying to be set on a copy of a slice from a DataFrame\n",
      "\n",
      "See the caveats in the documentation: https://pandas.pydata.org/pandas-docs/stable/user_guide/indexing.html#returning-a-view-versus-a-copy\n",
      "  df.Population[i] = x\n"
     ]
    }
   ],
   "source": [
    "#Cleaning the Column interested in of commas and converting to int.\n",
    "\n",
    "#Convert Column to String Values only  \n",
    "df.Population = df.Population.astype(str)\n",
    "\n",
    "#for every value in df.Population \n",
    "for i in range(len(df.Population)):\n",
    "    #Remove the commas and convet the number to an int\n",
    "    u = df.Population[i]\n",
    "    x = int(u.replace(\",\",\"\"))\n",
    "    \n",
    "    #assign the string value with the corrected integervalue \n",
    "    df.Population[i] = x"
   ]
  },
  {
   "cell_type": "code",
   "execution_count": 52,
   "id": "c2d5b324",
   "metadata": {},
   "outputs": [
    {
     "name": "stdout",
     "output_type": "stream",
     "text": [
      "280    1140525\n",
      "290     798786\n",
      "275     589214\n",
      "50      573299\n",
      "259     555741\n",
      "Name: Population, dtype: object \n"
     ]
    }
   ],
   "source": [
    "#Population Data\n",
    "\n",
    "#Define max Value of Population\n",
    "MaxVal = max(df.Population)\n",
    "\n",
    "#Sort the Column in terms of Value, highest first.\n",
    "PopSorted = df.Population.sort_values(ascending = False)\n",
    "\n",
    "#output\n",
    "p(PopSorted.head())\n",
    "\n",
    "#Cast as list \n",
    "PopSortedList = list(PopSorted)"
   ]
  },
  {
   "cell_type": "code",
   "execution_count": 53,
   "id": "2afa0943",
   "metadata": {},
   "outputs": [],
   "source": [
    "#Funtion used to find the location of Values of a Sorted List \n",
    "#Pop = value you are trying to find in respect to Sorted List, \n",
    "#PopSortedList = Sorted List of a value\n",
    "\n",
    "def FindNthHighest(Pop,PopSortedList):\n",
    "    for i in range(len(PopSortedList)):\n",
    "        if Pop == PopSortedList[i]:\n",
    "            position = i+1\n",
    "            return(position)\n",
    "            "
   ]
  },
  {
   "cell_type": "code",
   "execution_count": 54,
   "id": "ded1de16",
   "metadata": {},
   "outputs": [
    {
     "name": "stdout",
     "output_type": "stream",
     "text": [
      "Population of  Birmingham is 1140525 which is the number  1  highest population out of the DataSet\n",
      "Population of  0 is 0 which is the number  324  highest population out of the DataSet\n",
      "Population of  Leeds is 798786 which is the number  2  highest population out of the DataSet\n",
      "Population of  Manchester is 555741 which is the number  5  highest population out of the DataSet\n",
      "Population of  Wandsworth is 329735 which is the number  28  highest population out of the DataSet\n",
      "Population of  Bristol, City of is 465866 which is the number  10  highest population out of the DataSet\n",
      "Population of  Lambeth is 321813 which is the number  35  highest population out of the DataSet\n",
      "Population of  Ealing is 340341 which is the number  22  highest population out of the DataSet\n",
      "Population of  Barnet is 399007 which is the number  12  highest population out of the DataSet\n",
      "Population of  Sheffield is 589214 which is the number  3  highest population out of the DataSet\n"
     ]
    }
   ],
   "source": [
    "MaxPop = PopSortedList[0]\n",
    "#printing the top ten highest Degree Centrality node's populations\n",
    "for i in range(len(BiggestDegCentIndexes)): #for the ton ten deg centrality nodes \n",
    "    \n",
    "    CityPop = df.Population[BiggestDegCentIndexes[i]] # fetch population from the dataframe \n",
    "    \n",
    "    if CityPop == str: #get rid of commas and convert to int \n",
    "        CityPop = int(CityPop.replace(\",\",\"\"))    \n",
    "        \n",
    "    #call function to asess the ranking of the population in the whole dataset\n",
    "    nthHighest = FindNthHighest(CityPop,PopSortedList)  \n",
    "    \n",
    "    print(\"Population of \", df.Name[BiggestDegCentIndexes[i]], \"is\", df.Population[BiggestDegCentIndexes[i]],\n",
    "    \"which is the number \",nthHighest,\" highest population out of the DataSet\")"
   ]
  },
  {
   "cell_type": "code",
   "execution_count": 55,
   "id": "6b188065",
   "metadata": {},
   "outputs": [
    {
     "name": "stdout",
     "output_type": "stream",
     "text": [
      "The highest nine degree centrality nodes fall within the highest 10.0 %   for population in the whole dataset  \n"
     ]
    }
   ],
   "source": [
    "#code to work out the Population percnetile of which the highest degree centrality data sits in \n",
    "maxV = len(df.Population) #total areas in the data set \n",
    "val = (35/maxV)*100 # converting the highest non nan affected data on the top ten degree centrality nodes to percentage\n",
    "p(\"The highest nine degree centrality nodes fall within the highest\",val,\"%   for population in the whole dataset \")\n"
   ]
  },
  {
   "cell_type": "markdown",
   "id": "2d8219f8",
   "metadata": {},
   "source": [
    "### Conclusion\n",
    "As the above cell confirms, the nodes with the highest Degree Centrality are also the very high population value (highest 10% from the whole dataset), except from the Nan outlier that has name \"0\", population \"0\". In summary these cells have correlated that nodes with highest amount of edges (highest degreee centrality) are also the nodes with high population. Which intuatively tells us that the more people live in a city, the more likely there is to be more connections with other areas. This makes complete sense when applied to the cities model."
   ]
  },
  {
   "cell_type": "markdown",
   "id": "c6f89856",
   "metadata": {},
   "source": [
    "# Task 2.6. Provide and discuss empirical evidence that proves or disproves the following hypothesis: “people tend to move between areas that are geographically close”."
   ]
  },
  {
   "cell_type": "markdown",
   "id": "d49afcf1",
   "metadata": {},
   "source": [
    "## Asess Clustering Coefficient\n",
    "It may prove useful to show that the Clustering Coefficient of nodes close to each other have a similar Clustering Coefficient as to aid to the example that people tend to move between areas that are geographically close."
   ]
  },
  {
   "cell_type": "code",
   "execution_count": 56,
   "id": "4434a342",
   "metadata": {},
   "outputs": [],
   "source": [
    "#Name dictionary for ease\n",
    "dict_Clustering_Coeff = nx.clustering(G3)\n",
    "#sort the dictionary based on item[1], which is the 'values' of the dict and hence the Clustering Coeff.\n",
    "sorted_Clustering_coeff = dict(sorted(dict_Clustering_Coeff.items(), key=lambda item: item[1])) #low to high\n"
   ]
  },
  {
   "cell_type": "code",
   "execution_count": 57,
   "id": "99b47970",
   "metadata": {},
   "outputs": [
    {
     "name": "stdout",
     "output_type": "stream",
     "text": [
      "The number 1 biggest Clustering Coeff is, Merthyr Tydfil  index 349 with Clustering Coeff of : 1.0\n",
      "The number 2 biggest Clustering Coeff is, Vale of Glamorgan  index 340 with Clustering Coeff of : 1.0\n",
      "The number 3 biggest Clustering Coeff is, Isle of Anglesey  index 328 with Clustering Coeff of : 1.0\n",
      "The number 4 biggest Clustering Coeff is, 0  index 326 with Clustering Coeff of : 1.0\n",
      "The number 5 biggest Clustering Coeff is, South Tyneside  index 278 with Clustering Coeff of : 1.0\n",
      "The number 6 biggest Clustering Coeff is, Redditch  index 249 with Clustering Coeff of : 1.0\n",
      "The number 7 biggest Clustering Coeff is, Worthing  index 246 with Clustering Coeff of : 1.0\n",
      "The number 8 biggest Clustering Coeff is, Adur  index 240 with Clustering Coeff of : 1.0\n",
      "The number 9 biggest Clustering Coeff is, 0  index 208 with Clustering Coeff of : 1.0\n",
      "The number 10 biggest Clustering Coeff is, Selby  index 191 with Clustering Coeff of : 1.0\n"
     ]
    }
   ],
   "source": [
    "#Call the PrintTopTen() Function to return the List of Biggest Valued Indexes for the desrired dictionary values. \n",
    "BiggestClusterCoeffIndexes = PrintTopTen(sorted_Clustering_coeff,String = \"Clustering Coeff\")"
   ]
  },
  {
   "cell_type": "markdown",
   "id": "443e2ac7",
   "metadata": {},
   "source": [
    "### Expectation \n",
    "Using these indexes we can see each corresponding city information. We should expect to see that the cities neighbooring (close to in location) the cities in our \"BiggestClusterCoeffIndexes\" list are in similar range of clustering Coeff, implying people tend to move between areas that are geographically close.  We can check on the location by reviewing the Northing and Easting data with respect to the top  Clustering Coeff cities."
   ]
  },
  {
   "cell_type": "code",
   "execution_count": 58,
   "id": "75a37449",
   "metadata": {},
   "outputs": [],
   "source": [
    "def FindClosestCities(N,E,dfne,index): # N = Northing Value of Original City, E = Easting Value of Original City. \n",
    "    #dfne = data set containing Northing and Easting columns from df, index = index of original city(node).\n",
    "    \n",
    "    #List of closest three FAKE PLACEHOLDER cities containing [(index, distance),(index, distance),(index, distance)]\n",
    "    #where the distance is large enough that there will definiately be a closer city to replcae the placeholder\n",
    "    \n",
    "    ClosestThreeCities = [(1,10**10),(2,10**10),(3,10**10)] \n",
    "\n",
    "    for i in dfne.index: #for every node (city) \n",
    "    \n",
    "        n = df.Northing[i] #node northing value \n",
    "        e = df.Easting[i] # node easting value \n",
    "   \n",
    "        TargetN = (N - n)**2 #Original - iterated node, values squared \n",
    "        TargetE = E - e #Original - iterated node, values squared \n",
    "    \n",
    "        distance = ((TargetN)**2 + (TargetE)**2)**(1/2) #Pythagorean Distance of Northing and Easting to give Distance with \n",
    "        #respect to Northing and Easting\n",
    "    \n",
    "        for j in range(len(ClosestThreeCities)):\n",
    "            if distance < ClosestThreeCities[j][1]:\n",
    "            \n",
    "                TempTuple = (i,distance)\n",
    "            \n",
    "                ClosestThreeCities.remove(ClosestThreeCities[j])\n",
    "                ClosestThreeCities.append(TempTuple)\n",
    "            \n",
    "                break\n",
    "                \n",
    "    #Return List of closest cities \n",
    "    return(ClosestThreeCities)"
   ]
  },
  {
   "cell_type": "code",
   "execution_count": 59,
   "id": "b2a22724",
   "metadata": {},
   "outputs": [],
   "source": [
    "N = df.Northing[0] #Northing Value of node i \n",
    "E = df.Easting[0] #EastingValue of node i"
   ]
  },
  {
   "cell_type": "code",
   "execution_count": 60,
   "id": "de0a99f7",
   "metadata": {},
   "outputs": [
    {
     "name": "stdout",
     "output_type": "stream",
     "text": [
      "Northing    False\n",
      "Easting     False\n",
      "dtype: bool \n"
     ]
    }
   ],
   "source": [
    "dfne = df[[\"Northing\", \"Easting\"]]\n",
    "p(dfne.isna().any())"
   ]
  },
  {
   "cell_type": "markdown",
   "id": "5858e7a7",
   "metadata": {},
   "source": [
    "There are no \"Not a Number\" Values in the dfne DataFrame "
   ]
  },
  {
   "cell_type": "code",
   "execution_count": 61,
   "id": "424490ce",
   "metadata": {},
   "outputs": [
    {
     "name": "stdout",
     "output_type": "stream",
     "text": [
      "The Clustering Coeff of the Closest Two Cities to Merthyr Tydfil \n",
      " (Clustering Coeff of Merthyr Tydfil is 1.0 ) are  0.444 and 0\n",
      "original: 1.0 .  Average: 0.222 \n",
      "\n",
      "\n",
      "The Clustering Coeff of the Closest Two Cities to Vale of Glamorgan \n",
      " (Clustering Coeff of Vale of Glamorgan is 0.607 ) are  0.617 and 0.693\n",
      "original: 0.607 .  Average: 0.655 \n",
      "\n",
      "\n",
      "The Clustering Coeff of the Closest Two Cities to Isle of Anglesey \n",
      " (Clustering Coeff of Isle of Anglesey is 0.5 ) are  0.476 and 0.267\n",
      "original: 0.5 .  Average: 0.371 \n",
      "\n",
      "\n",
      "The Clustering Coeff of the Closest Two Cities to 0 \n",
      " (Clustering Coeff of 0 is 0.607 ) are  0.397 and 0.571\n",
      "original: 0.607 .  Average: 0.484 \n",
      "\n",
      "\n",
      "The Clustering Coeff of the Closest Two Cities to South Tyneside \n",
      " (Clustering Coeff of South Tyneside is 0.7 ) are  0.929 and 0.929\n",
      "original: 0.7 .  Average: 0.929 \n",
      "\n",
      "\n",
      "The Clustering Coeff of the Closest Two Cities to Redditch \n",
      " (Clustering Coeff of Redditch is 0.7 ) are  0.9 and 0.667\n",
      "original: 0.7 .  Average: 0.783 \n",
      "\n",
      "\n",
      "The Clustering Coeff of the Closest Two Cities to Worthing \n",
      " (Clustering Coeff of Worthing is 0.689 ) are  1.0 and 0.667\n",
      "original: 0.689 .  Average: 0.833 \n",
      "\n",
      "\n",
      "The Clustering Coeff of the Closest Two Cities to Adur \n",
      " (Clustering Coeff of Adur is 0.524 ) are  0.528 and 0.667\n",
      "original: 0.524 .  Average: 0.597 \n",
      "\n",
      "\n",
      "The Clustering Coeff of the Closest Two Cities to 0 \n",
      " (Clustering Coeff of 0 is 0.6 ) are  0.397 and 0.571\n",
      "original: 0.6 .  Average: 0.484 \n",
      "\n",
      "\n",
      "The Clustering Coeff of the Closest Two Cities to Selby \n",
      " (Clustering Coeff of Selby is 0.762 ) are  0.667 and 0.8\n",
      "original: 0.762 .  Average: 0.733 \n",
      "\n",
      "\n"
     ]
    }
   ],
   "source": [
    "#Find the Clusering Coefficient of the Top Ten Clustering Coefficient Nodes and Print Output\n",
    "\n",
    "#List for average Clustering Coeff Values \n",
    "AverageCC = [] \n",
    "##List for Original node Clustering Coeff Values \n",
    "OriginalCC = []\n",
    "\n",
    "\n",
    "for i in range(len(BiggestClusterCoeffIndexes)): #For every one of the ten highest Scoring Clustering Coefficient Nodes \n",
    "    \n",
    "    #finding closest nodes\n",
    "    ClosestList = [] #List of closest Areas\n",
    "    \n",
    "    N = df.Northing[BiggestClusterCoeffIndexes[i]] #Northing Value of node i \n",
    "    E = df.Easting[BiggestClusterCoeffIndexes[i]] #EastingValue of node i\n",
    "    \n",
    "    ClosestList = FindClosestCities(N,E,dfne,i) # function that finds the 2 closest nodes \n",
    "  \n",
    "\n",
    "    \n",
    "    IndexOfClosest = [] #index of the colest cities \n",
    "    for k in ClosestList: # for each of the two closest cities\n",
    "        if k[0] != BiggestClusterCoeffIndexes[i]:   #if the city we are comparing to's INDEX is not the cities INDEX\n",
    "            IndexOfClosest.append(k[0])  #add the unique closest city INDEX to the list \n",
    "            \n",
    "            \n",
    "    #handling data\n",
    "    OriginalCC.append(round(dict_Clustering_Coeff[i],3)) #adding original city Clustering Coef to list for later dataframe\n",
    "    Avg = (dict_Clustering_Coeff[IndexOfClosest[0]] + dict_Clustering_Coeff[IndexOfClosest[1]])/2 #standard average calculation \n",
    "    AverageCC.append(round(Avg,3)) #appedning average rounded to 3sf to list for later dataframe \n",
    "    \n",
    "    \n",
    "    \n",
    "    #Printing output\n",
    "    print(\"The Clustering Coeff of the Closest Two Cities to\",df.Name[BiggestClusterCoeffIndexes[i]],\n",
    "          \n",
    "          \"\\n\",\"(Clustering Coeff of\",df.Name[BiggestClusterCoeffIndexes[i]],\"is\", round(dict_Clustering_Coeff[i],3),\")\"\n",
    "          \n",
    "          \" are \", round(dict_Clustering_Coeff[IndexOfClosest[0]],3),\n",
    "          \"and\", round(dict_Clustering_Coeff[IndexOfClosest[1]],3), end = \"\\n\")\n",
    "    p(\"original:\", round(dict_Clustering_Coeff[i],3), \".  Average:\", round(Avg,3))\n",
    "    \n",
    "    print(\"\\n\")"
   ]
  },
  {
   "cell_type": "code",
   "execution_count": 62,
   "id": "26635446",
   "metadata": {},
   "outputs": [],
   "source": [
    "def FindFurthestCities(N,E,dfne,index): # N = Northing Value of Original City, E = Easting Value of Original City. \n",
    "    #dfne = data set containing Northing and Easting columns from df, index = index of original city(node).\n",
    "    \n",
    "    #List of closest three FAKE PLACEHOLDER cities containing [(index, distance),(index, distance),(index, distance)]\n",
    "    #where the distance is SMALL enough that there will definiately be a closer city to replcae the placeholder\n",
    "    \n",
    "    LargestThreeCities = [(1,10),(2,10),(3,10)] \n",
    "\n",
    "    for i in dfne.index: #for every node (city) \n",
    "    \n",
    "        n = df.Northing[i] #node northing value \n",
    "        e = df.Easting[i] # node easting value \n",
    "   \n",
    "        TargetN = (N - n)**2 #Original - iterated node, values squared \n",
    "        TargetE = E - e #Original - iterated node, values squared \n",
    "    \n",
    "        distance = ((TargetN)**2 + (TargetE)**2)**(1/2) #Pythagorean Distance of Northing and Easting to give Distance with \n",
    "        #respect to Northing and Easting\n",
    "    \n",
    "        for j in range(len(LargestThreeCities)):\n",
    "            if distance > LargestThreeCities[j][1]:\n",
    "            \n",
    "                TempTuple = (i,distance)\n",
    "            \n",
    "                LargestThreeCities.remove(LargestThreeCities[j])\n",
    "                LargestThreeCities.append(TempTuple)\n",
    "            \n",
    "                break\n",
    "    #return a list of the furthest cities \n",
    "    return(LargestThreeCities)"
   ]
  },
  {
   "cell_type": "code",
   "execution_count": 63,
   "id": "0872498b",
   "metadata": {},
   "outputs": [
    {
     "name": "stdout",
     "output_type": "stream",
     "text": [
      "The Clustering Coeff of the Closest Two Cities to Merthyr Tydfil \n",
      " (Clustering Coeff of Merthyr Tydfil is 1.0 ) are  0.929 and 0.32\n",
      "original: 1.0 .  Average: 0.624 \n",
      "\n",
      "\n",
      "The Clustering Coeff of the Closest Two Cities to Vale of Glamorgan \n",
      " (Clustering Coeff of Vale of Glamorgan is 0.607 ) are  0.929 and 0.32\n",
      "original: 0.607 .  Average: 0.624 \n",
      "\n",
      "\n",
      "The Clustering Coeff of the Closest Two Cities to Isle of Anglesey \n",
      " (Clustering Coeff of Isle of Anglesey is 0.5 ) are  0.397 and 0.571\n",
      "original: 0.5 .  Average: 0.484 \n",
      "\n",
      "\n",
      "The Clustering Coeff of the Closest Two Cities to 0 \n",
      " (Clustering Coeff of 0 is 0.607 ) are  0.929 and 0.32\n",
      "original: 0.607 .  Average: 0.624 \n",
      "\n",
      "\n",
      "The Clustering Coeff of the Closest Two Cities to South Tyneside \n",
      " (Clustering Coeff of South Tyneside is 0.7 ) are  0.397 and 0.571\n",
      "original: 0.7 .  Average: 0.484 \n",
      "\n",
      "\n",
      "The Clustering Coeff of the Closest Two Cities to Redditch \n",
      " (Clustering Coeff of Redditch is 0.7 ) are  0.929 and 0.32\n",
      "original: 0.7 .  Average: 0.624 \n",
      "\n",
      "\n",
      "The Clustering Coeff of the Closest Two Cities to Worthing \n",
      " (Clustering Coeff of Worthing is 0.689 ) are  0.929 and 0.32\n",
      "original: 0.689 .  Average: 0.624 \n",
      "\n",
      "\n",
      "The Clustering Coeff of the Closest Two Cities to Adur \n",
      " (Clustering Coeff of Adur is 0.524 ) are  0.929 and 0.32\n",
      "original: 0.524 .  Average: 0.624 \n",
      "\n",
      "\n",
      "The Clustering Coeff of the Closest Two Cities to 0 \n",
      " (Clustering Coeff of 0 is 0.6 ) are  0.929 and 0.32\n",
      "original: 0.6 .  Average: 0.624 \n",
      "\n",
      "\n",
      "The Clustering Coeff of the Closest Two Cities to Selby \n",
      " (Clustering Coeff of Selby is 0.762 ) are  0.397 and 0.571\n",
      "original: 0.762 .  Average: 0.484 \n",
      "\n",
      "\n"
     ]
    }
   ],
   "source": [
    "\n",
    "\n",
    "AverageFurthestCC = []\n",
    "PopOrig = []\n",
    "for i in range(len(BiggestClusterCoeffIndexes)):\n",
    "    #Finding Furthest Cities\n",
    "    N = df.Northing[BiggestClusterCoeffIndexes[i]] #Northing Value of node i \n",
    "    E = df.Easting[BiggestClusterCoeffIndexes[i]] #EastingValue of node i\n",
    "    FurthestList = FindFurthestCities(N,E,dfne,i) # function that finds the 2 FURTHEST nodes \n",
    "\n",
    "    IndexOfFurthest = [] #index of the furthest cities \n",
    "    for k in FurthestList: # for each of the two closest cities\n",
    "        IndexOfFurthest.append(k[0])  #add the unique closest city INDEX to the list \n",
    "            \n",
    "    Avg = (dict_Clustering_Coeff[IndexOfFurthest[0]] \n",
    "           + dict_Clustering_Coeff[IndexOfFurthest[1]])/2 #standard average calculation \n",
    "    AverageFurthestCC.append(round(Avg,3)) #appedning average rounded to 3sf to list for later dataframe \n",
    "    \n",
    "    \n",
    "    PopOrig.append(df.Population[BiggestClusterCoeffIndexes[i]]) # append population to list for later \n",
    "    \n",
    "    #Printing output\n",
    "    print(\"The Clustering Coeff of the Closest Two Cities to\",df.Name[BiggestClusterCoeffIndexes[i]],\n",
    "          \n",
    "          \"\\n\",\"(Clustering Coeff of\",df.Name[BiggestClusterCoeffIndexes[i]],\"is\", round(dict_Clustering_Coeff[i],3),\")\"\n",
    "          \n",
    "          \" are \", round(dict_Clustering_Coeff[IndexOfFurthest[0]],3),\n",
    "          \"and\", round(dict_Clustering_Coeff[IndexOfFurthest[1]],3), end = \"\\n\")\n",
    "    p(\"original:\", round(dict_Clustering_Coeff[i],3), \".  Average:\", round(Avg,3))\n",
    "    \n",
    "    print(\"\\n\")"
   ]
  },
  {
   "cell_type": "code",
   "execution_count": 64,
   "id": "41924508",
   "metadata": {},
   "outputs": [
    {
     "name": "stdout",
     "output_type": "stream",
     "text": [
      "[89.4, 48.6, 86.9, 92.6, 39.1, 82.9, 64.3, 88.9, 92.6, 78.9]\n"
     ]
    }
   ],
   "source": [
    "PopOrigNth =[]\n",
    "#these next lines find the percentile of population for the top 10 highest degree centrality nodes.\n",
    "for i in range(len(PopOrig)):#for the top ten Deg Centrality nodes associated population values \n",
    "    #find the percentile and then append to list \n",
    "    PopOrigNth.append(round((FindNthHighest(PopOrig[i],list(df.Population.sort_values(ascending = False)))/350)*100,1))\n",
    "    \n",
    "#outputing the list of the the percentiles of teh highest degree centrality values\n",
    "print(PopOrigNth)"
   ]
  },
  {
   "cell_type": "code",
   "execution_count": 65,
   "id": "b90bc3b1",
   "metadata": {},
   "outputs": [
    {
     "data": {
      "text/html": [
       "<div>\n",
       "<style scoped>\n",
       "    .dataframe tbody tr th:only-of-type {\n",
       "        vertical-align: middle;\n",
       "    }\n",
       "\n",
       "    .dataframe tbody tr th {\n",
       "        vertical-align: top;\n",
       "    }\n",
       "\n",
       "    .dataframe thead th {\n",
       "        text-align: right;\n",
       "    }\n",
       "</style>\n",
       "<table border=\"1\" class=\"dataframe\">\n",
       "  <thead>\n",
       "    <tr style=\"text-align: right;\">\n",
       "      <th></th>\n",
       "      <th>Original_CC</th>\n",
       "      <th>Average_Of_2_Closest</th>\n",
       "      <th>Average_Of_2_Furthest</th>\n",
       "      <th>Original_Population</th>\n",
       "      <th>Population_Percentile</th>\n",
       "    </tr>\n",
       "  </thead>\n",
       "  <tbody>\n",
       "    <tr>\n",
       "      <th>0</th>\n",
       "      <td>1.000</td>\n",
       "      <td>0.222</td>\n",
       "      <td>0.624</td>\n",
       "      <td>60424</td>\n",
       "      <td>89.4</td>\n",
       "    </tr>\n",
       "    <tr>\n",
       "      <th>1</th>\n",
       "      <td>0.607</td>\n",
       "      <td>0.655</td>\n",
       "      <td>0.624</td>\n",
       "      <td>135295</td>\n",
       "      <td>48.6</td>\n",
       "    </tr>\n",
       "    <tr>\n",
       "      <th>2</th>\n",
       "      <td>0.500</td>\n",
       "      <td>0.371</td>\n",
       "      <td>0.484</td>\n",
       "      <td>70440</td>\n",
       "      <td>86.9</td>\n",
       "    </tr>\n",
       "    <tr>\n",
       "      <th>3</th>\n",
       "      <td>0.607</td>\n",
       "      <td>0.484</td>\n",
       "      <td>0.624</td>\n",
       "      <td>0</td>\n",
       "      <td>92.6</td>\n",
       "    </tr>\n",
       "    <tr>\n",
       "      <th>4</th>\n",
       "      <td>0.700</td>\n",
       "      <td>0.929</td>\n",
       "      <td>0.484</td>\n",
       "      <td>151133</td>\n",
       "      <td>39.1</td>\n",
       "    </tr>\n",
       "    <tr>\n",
       "      <th>5</th>\n",
       "      <td>0.700</td>\n",
       "      <td>0.783</td>\n",
       "      <td>0.624</td>\n",
       "      <td>85568</td>\n",
       "      <td>82.9</td>\n",
       "    </tr>\n",
       "    <tr>\n",
       "      <th>6</th>\n",
       "      <td>0.689</td>\n",
       "      <td>0.833</td>\n",
       "      <td>0.624</td>\n",
       "      <td>110727</td>\n",
       "      <td>64.3</td>\n",
       "    </tr>\n",
       "    <tr>\n",
       "      <th>7</th>\n",
       "      <td>0.524</td>\n",
       "      <td>0.597</td>\n",
       "      <td>0.624</td>\n",
       "      <td>64187</td>\n",
       "      <td>88.9</td>\n",
       "    </tr>\n",
       "    <tr>\n",
       "      <th>8</th>\n",
       "      <td>0.600</td>\n",
       "      <td>0.484</td>\n",
       "      <td>0.624</td>\n",
       "      <td>0</td>\n",
       "      <td>92.6</td>\n",
       "    </tr>\n",
       "    <tr>\n",
       "      <th>9</th>\n",
       "      <td>0.762</td>\n",
       "      <td>0.733</td>\n",
       "      <td>0.484</td>\n",
       "      <td>91697</td>\n",
       "      <td>78.9</td>\n",
       "    </tr>\n",
       "  </tbody>\n",
       "</table>\n",
       "</div>"
      ],
      "text/plain": [
       "   Original_CC  Average_Of_2_Closest  Average_Of_2_Furthest  \\\n",
       "0        1.000                 0.222                  0.624   \n",
       "1        0.607                 0.655                  0.624   \n",
       "2        0.500                 0.371                  0.484   \n",
       "3        0.607                 0.484                  0.624   \n",
       "4        0.700                 0.929                  0.484   \n",
       "5        0.700                 0.783                  0.624   \n",
       "6        0.689                 0.833                  0.624   \n",
       "7        0.524                 0.597                  0.624   \n",
       "8        0.600                 0.484                  0.624   \n",
       "9        0.762                 0.733                  0.484   \n",
       "\n",
       "   Original_Population  Population_Percentile  \n",
       "0                60424                   89.4  \n",
       "1               135295                   48.6  \n",
       "2                70440                   86.9  \n",
       "3                    0                   92.6  \n",
       "4               151133                   39.1  \n",
       "5                85568                   82.9  \n",
       "6               110727                   64.3  \n",
       "7                64187                   88.9  \n",
       "8                    0                   92.6  \n",
       "9                91697                   78.9  "
      ]
     },
     "execution_count": 65,
     "metadata": {},
     "output_type": "execute_result"
    }
   ],
   "source": [
    "#Append all the data gathered from above to a dataframe to make easy viewing\n",
    "\n",
    "ClusterData = pd.DataFrame()\n",
    "ClusterData[\"Original_CC\"]  = OriginalCC\n",
    "ClusterData[\"Average_Of_2_Closest\"] = AverageCC\n",
    "ClusterData[\"Average_Of_2_Furthest\"] = AverageFurthestCC\n",
    "ClusterData[\"Original_Population\"] = PopOrig\n",
    "ClusterData[\"Population_Percentile\"] = PopOrigNth\n",
    "ClusterData.head(10)\n"
   ]
  },
  {
   "cell_type": "code",
   "execution_count": 66,
   "id": "042d2a0e",
   "metadata": {},
   "outputs": [
    {
     "data": {
      "text/html": [
       "<div>\n",
       "<style scoped>\n",
       "    .dataframe tbody tr th:only-of-type {\n",
       "        vertical-align: middle;\n",
       "    }\n",
       "\n",
       "    .dataframe tbody tr th {\n",
       "        vertical-align: top;\n",
       "    }\n",
       "\n",
       "    .dataframe thead th {\n",
       "        text-align: right;\n",
       "    }\n",
       "</style>\n",
       "<table border=\"1\" class=\"dataframe\">\n",
       "  <thead>\n",
       "    <tr style=\"text-align: right;\">\n",
       "      <th></th>\n",
       "      <th>Original_CC</th>\n",
       "      <th>Average_Of_2_Closest</th>\n",
       "      <th>Average_Of_2_Furthest</th>\n",
       "      <th>Original_Population</th>\n",
       "      <th>Population_Percentile</th>\n",
       "    </tr>\n",
       "  </thead>\n",
       "  <tbody>\n",
       "    <tr>\n",
       "      <th>count</th>\n",
       "      <td>10.000000</td>\n",
       "      <td>10.000000</td>\n",
       "      <td>10.000000</td>\n",
       "      <td>10.000000</td>\n",
       "      <td>10.000000</td>\n",
       "    </tr>\n",
       "    <tr>\n",
       "      <th>mean</th>\n",
       "      <td>0.668900</td>\n",
       "      <td>0.609100</td>\n",
       "      <td>0.582000</td>\n",
       "      <td>76947.100000</td>\n",
       "      <td>76.420000</td>\n",
       "    </tr>\n",
       "    <tr>\n",
       "      <th>std</th>\n",
       "      <td>0.142426</td>\n",
       "      <td>0.220643</td>\n",
       "      <td>0.067626</td>\n",
       "      <td>50178.430555</td>\n",
       "      <td>19.204791</td>\n",
       "    </tr>\n",
       "    <tr>\n",
       "      <th>min</th>\n",
       "      <td>0.500000</td>\n",
       "      <td>0.222000</td>\n",
       "      <td>0.484000</td>\n",
       "      <td>0.000000</td>\n",
       "      <td>39.100000</td>\n",
       "    </tr>\n",
       "    <tr>\n",
       "      <th>25%</th>\n",
       "      <td>0.601750</td>\n",
       "      <td>0.484000</td>\n",
       "      <td>0.519000</td>\n",
       "      <td>61364.750000</td>\n",
       "      <td>67.950000</td>\n",
       "    </tr>\n",
       "    <tr>\n",
       "      <th>50%</th>\n",
       "      <td>0.648000</td>\n",
       "      <td>0.626000</td>\n",
       "      <td>0.624000</td>\n",
       "      <td>78004.000000</td>\n",
       "      <td>84.900000</td>\n",
       "    </tr>\n",
       "    <tr>\n",
       "      <th>75%</th>\n",
       "      <td>0.700000</td>\n",
       "      <td>0.770500</td>\n",
       "      <td>0.624000</td>\n",
       "      <td>105969.500000</td>\n",
       "      <td>89.275000</td>\n",
       "    </tr>\n",
       "    <tr>\n",
       "      <th>max</th>\n",
       "      <td>1.000000</td>\n",
       "      <td>0.929000</td>\n",
       "      <td>0.624000</td>\n",
       "      <td>151133.000000</td>\n",
       "      <td>92.600000</td>\n",
       "    </tr>\n",
       "  </tbody>\n",
       "</table>\n",
       "</div>"
      ],
      "text/plain": [
       "       Original_CC  Average_Of_2_Closest  Average_Of_2_Furthest  \\\n",
       "count    10.000000             10.000000              10.000000   \n",
       "mean      0.668900              0.609100               0.582000   \n",
       "std       0.142426              0.220643               0.067626   \n",
       "min       0.500000              0.222000               0.484000   \n",
       "25%       0.601750              0.484000               0.519000   \n",
       "50%       0.648000              0.626000               0.624000   \n",
       "75%       0.700000              0.770500               0.624000   \n",
       "max       1.000000              0.929000               0.624000   \n",
       "\n",
       "       Original_Population  Population_Percentile  \n",
       "count            10.000000              10.000000  \n",
       "mean          76947.100000              76.420000  \n",
       "std           50178.430555              19.204791  \n",
       "min               0.000000              39.100000  \n",
       "25%           61364.750000              67.950000  \n",
       "50%           78004.000000              84.900000  \n",
       "75%          105969.500000              89.275000  \n",
       "max          151133.000000              92.600000  "
      ]
     },
     "execution_count": 66,
     "metadata": {},
     "output_type": "execute_result"
    }
   ],
   "source": [
    "#Get the stats easliy of the Dataframe\n",
    "ClusterData.describe()"
   ]
  },
  {
   "cell_type": "markdown",
   "id": "c26b1e02",
   "metadata": {},
   "source": [
    "### Notes\n",
    "As we were choosing the data as inputted from the text file which contained NaN's that were sent to 0 in lines of code at the start, any averages with this in mind will be underestimating or equal to the value. The only data points that contained theses altered values was the first, third and Eighth Rows in the DataSet ClusteredData. Hence, if we excluse that Series from the calculations."
   ]
  },
  {
   "cell_type": "code",
   "execution_count": 67,
   "id": "e1e9ea32",
   "metadata": {},
   "outputs": [
    {
     "data": {
      "text/html": [
       "<div>\n",
       "<style scoped>\n",
       "    .dataframe tbody tr th:only-of-type {\n",
       "        vertical-align: middle;\n",
       "    }\n",
       "\n",
       "    .dataframe tbody tr th {\n",
       "        vertical-align: top;\n",
       "    }\n",
       "\n",
       "    .dataframe thead th {\n",
       "        text-align: right;\n",
       "    }\n",
       "</style>\n",
       "<table border=\"1\" class=\"dataframe\">\n",
       "  <thead>\n",
       "    <tr style=\"text-align: right;\">\n",
       "      <th></th>\n",
       "      <th>Original_CC</th>\n",
       "      <th>Average_Of_2_Closest</th>\n",
       "      <th>Average_Of_2_Furthest</th>\n",
       "      <th>Original_Population</th>\n",
       "      <th>Population_Percentile</th>\n",
       "    </tr>\n",
       "  </thead>\n",
       "  <tbody>\n",
       "    <tr>\n",
       "      <th>count</th>\n",
       "      <td>7.000000</td>\n",
       "      <td>7.000000</td>\n",
       "      <td>7.000000</td>\n",
       "      <td>7.000000</td>\n",
       "      <td>7.000000</td>\n",
       "    </tr>\n",
       "    <tr>\n",
       "      <th>mean</th>\n",
       "      <td>0.640286</td>\n",
       "      <td>0.700143</td>\n",
       "      <td>0.564000</td>\n",
       "      <td>101292.428571</td>\n",
       "      <td>69.942857</td>\n",
       "    </tr>\n",
       "    <tr>\n",
       "      <th>std</th>\n",
       "      <td>0.098851</td>\n",
       "      <td>0.182109</td>\n",
       "      <td>0.074833</td>\n",
       "      <td>32652.931578</td>\n",
       "      <td>19.721719</td>\n",
       "    </tr>\n",
       "    <tr>\n",
       "      <th>min</th>\n",
       "      <td>0.500000</td>\n",
       "      <td>0.371000</td>\n",
       "      <td>0.484000</td>\n",
       "      <td>64187.000000</td>\n",
       "      <td>39.100000</td>\n",
       "    </tr>\n",
       "    <tr>\n",
       "      <th>25%</th>\n",
       "      <td>0.565500</td>\n",
       "      <td>0.626000</td>\n",
       "      <td>0.484000</td>\n",
       "      <td>78004.000000</td>\n",
       "      <td>56.450000</td>\n",
       "    </tr>\n",
       "    <tr>\n",
       "      <th>50%</th>\n",
       "      <td>0.689000</td>\n",
       "      <td>0.733000</td>\n",
       "      <td>0.624000</td>\n",
       "      <td>91697.000000</td>\n",
       "      <td>78.900000</td>\n",
       "    </tr>\n",
       "    <tr>\n",
       "      <th>75%</th>\n",
       "      <td>0.700000</td>\n",
       "      <td>0.808000</td>\n",
       "      <td>0.624000</td>\n",
       "      <td>123011.000000</td>\n",
       "      <td>84.900000</td>\n",
       "    </tr>\n",
       "    <tr>\n",
       "      <th>max</th>\n",
       "      <td>0.762000</td>\n",
       "      <td>0.929000</td>\n",
       "      <td>0.624000</td>\n",
       "      <td>151133.000000</td>\n",
       "      <td>88.900000</td>\n",
       "    </tr>\n",
       "  </tbody>\n",
       "</table>\n",
       "</div>"
      ],
      "text/plain": [
       "       Original_CC  Average_Of_2_Closest  Average_Of_2_Furthest  \\\n",
       "count     7.000000              7.000000               7.000000   \n",
       "mean      0.640286              0.700143               0.564000   \n",
       "std       0.098851              0.182109               0.074833   \n",
       "min       0.500000              0.371000               0.484000   \n",
       "25%       0.565500              0.626000               0.484000   \n",
       "50%       0.689000              0.733000               0.624000   \n",
       "75%       0.700000              0.808000               0.624000   \n",
       "max       0.762000              0.929000               0.624000   \n",
       "\n",
       "       Original_Population  Population_Percentile  \n",
       "count             7.000000               7.000000  \n",
       "mean         101292.428571              69.942857  \n",
       "std           32652.931578              19.721719  \n",
       "min           64187.000000              39.100000  \n",
       "25%           78004.000000              56.450000  \n",
       "50%           91697.000000              78.900000  \n",
       "75%          123011.000000              84.900000  \n",
       "max          151133.000000              88.900000  "
      ]
     },
     "execution_count": 67,
     "metadata": {},
     "output_type": "execute_result"
    }
   ],
   "source": [
    "ClusterData.drop(index =0, inplace = True)\n",
    "ClusterData.drop(index =3, inplace = True)\n",
    "ClusterData.drop(index =8, inplace = True)\n",
    "ClusterData.describe()"
   ]
  },
  {
   "cell_type": "markdown",
   "id": "0b4ef498",
   "metadata": {},
   "source": [
    "The means of the Average columns have now increased in disparity after removing the NaN affected data."
   ]
  },
  {
   "cell_type": "markdown",
   "id": "4b3edc92",
   "metadata": {},
   "source": [
    "## Asessing Betweeness Centrality\n",
    "\n",
    "By assessing the highest ten Betweeness Centrality Nodes, we can see the edges of which are associated with the most amount of shortest paths between them. By reviewing which cities these edges are associated, we can find out whether it aids the statment  “people tend to move between areas that are geographically close\". \n",
    "\n",
    "Intuitively, if people tend to move places that are geographically close, then there will ba a shortest path associated to the geographically close place. The highest Betweeness Centrality node will be a node with high \"population flow through the city\" in the graph model.\n",
    "\n",
    "##### Test Basis\n",
    "If we find that the highest Betweeness Centraility nodes are far out from the center of the data in terms of position (Northing and Easting Values) this would imply a node that has a place of interest, where many commuters from all round the country would travel to, implying “people tend to move between areas that are **NOT** geographically close\". \n",
    "On the contrary, if many of the highest Betweeness Centrality nodes are central in position (Northing and Easting Values) to the rest of the Data we can assume that the node is used as a connection in their travelling pathway and hence \"people tend to move between areas that **are** geographically close\" as the highest betweeness centrality nodes will be used for people to complete their journey with the shortest path and hence are trying to move as geogrphically close as they can. "
   ]
  },
  {
   "cell_type": "code",
   "execution_count": 68,
   "id": "c8ee1c00",
   "metadata": {},
   "outputs": [
    {
     "name": "stdout",
     "output_type": "stream",
     "text": [
      "The number 1 biggest Betweeness Centrality is, Birmingham  index 280 with Betweeness Centrality of : 0.22\n",
      "The number 2 biggest Betweeness Centrality is, 0  index 327 with Betweeness Centrality of : 0.179\n",
      "The number 3 biggest Betweeness Centrality is, Manchester  index 259 with Betweeness Centrality of : 0.108\n",
      "The number 4 biggest Betweeness Centrality is, Leeds  index 290 with Betweeness Centrality of : 0.096\n",
      "The number 5 biggest Betweeness Centrality is, Bristol, City of  index 22 with Betweeness Centrality of : 0.087\n",
      "The number 6 biggest Betweeness Centrality is, Nottingham  index 17 with Betweeness Centrality of : 0.075\n",
      "The number 7 biggest Betweeness Centrality is, Cambridge  index 60 with Betweeness Centrality of : 0.073\n",
      "The number 8 biggest Betweeness Centrality is, Cardiff  index 341 with Betweeness Centrality of : 0.066\n",
      "The number 9 biggest Betweeness Centrality is, Brighton and Hove  index 42 with Betweeness Centrality of : 0.063\n",
      "The number 10 biggest Betweeness Centrality is, Redbridge  index 318 with Betweeness Centrality of : 0.058\n"
     ]
    }
   ],
   "source": [
    "#Name dictionary for ease\n",
    "dict_Betweeness_Centrality = nx.betweenness_centrality(G3)\n",
    "#sort the dictionary based on item[1], which is the 'values' of the dict.\n",
    "sorted_Betw_Cent = dict(sorted(dict_Betweeness_Centrality.items(), key=lambda item: item[1])) #low to high\n",
    "\n",
    "#Call the PrintTopTen() Function to return the List of Biggest Valued Indexes for the desrired dictionary values. \n",
    "BiggestBCI = PrintTopTen(sorted_Betw_Cent,String = \"Betweeness Centrality\")\n",
    "\n",
    "#Lists to contain the data for later use in Dataframe\n",
    "Names = [] \n",
    "Northing = []\n",
    "Easting = []\n",
    "NorthingNth = []\n",
    "EastingNth = []\n",
    "Populationk = []\n",
    "\n",
    "#retrive data from Datframe where i is the index of the data we want\n",
    "for i in BiggestBCI:\n",
    "    Names.append(df.Name[i])\n",
    "    Northing.append(df.Northing[i])\n",
    "    Easting.append(df.Easting[i])\n",
    "    Populationk.append(df.Population[i])\n",
    "    \n",
    "    EastingVal = df.Easting[i]\n",
    "    NorthingVal = df.Northing[i]\n",
    "    #The below to lines calculate the rounded percentage of the Easting and Northing Values for the index we care about\n",
    "    #and append them to a list for later use \n",
    "    EastingNth.append(round((FindNthHighest(EastingVal, list(df.Easting.sort_values(ascending = False)))/350)*100,1))\n",
    "    NorthingNth.append(round((FindNthHighest(NorthingVal,list(df.Northing.sort_values(ascending= False)))/350)*100,1))\n",
    "\n"
   ]
  },
  {
   "cell_type": "code",
   "execution_count": 69,
   "id": "44ec5fd6",
   "metadata": {},
   "outputs": [
    {
     "name": "stdout",
     "output_type": "stream",
     "text": [
      "[0.29, 92.57, 1.43, 0.57, 2.86, 6.57, 55.14, 4.57, 12.57, 11.43]\n"
     ]
    }
   ],
   "source": [
    "#Feinding the Population percentage of the Highest Betweeness Centrality nodes  \n",
    "PopOrigNth =[]\n",
    "for i in range(len(Populationk)):\n",
    "    PopOrigNth.append(round((FindNthHighest(Populationk[i],list(df.Population.sort_values(ascending = False)))/350)*100,2))\n",
    "print(PopOrigNth)"
   ]
  },
  {
   "cell_type": "code",
   "execution_count": 70,
   "id": "dcfca1fe",
   "metadata": {},
   "outputs": [
    {
     "data": {
      "text/html": [
       "<div>\n",
       "<style scoped>\n",
       "    .dataframe tbody tr th:only-of-type {\n",
       "        vertical-align: middle;\n",
       "    }\n",
       "\n",
       "    .dataframe tbody tr th {\n",
       "        vertical-align: top;\n",
       "    }\n",
       "\n",
       "    .dataframe thead th {\n",
       "        text-align: right;\n",
       "    }\n",
       "</style>\n",
       "<table border=\"1\" class=\"dataframe\">\n",
       "  <thead>\n",
       "    <tr style=\"text-align: right;\">\n",
       "      <th></th>\n",
       "      <th>Names</th>\n",
       "      <th>Northing</th>\n",
       "      <th>Easting</th>\n",
       "      <th>Northing %</th>\n",
       "      <th>Easting %</th>\n",
       "      <th>Population</th>\n",
       "      <th>Population %</th>\n",
       "      <th>Within_Range</th>\n",
       "    </tr>\n",
       "  </thead>\n",
       "  <tbody>\n",
       "    <tr>\n",
       "      <th>0</th>\n",
       "      <td>Birmingham</td>\n",
       "      <td>287352.0</td>\n",
       "      <td>408150.0</td>\n",
       "      <td>39.4</td>\n",
       "      <td>60.9</td>\n",
       "      <td>1140525</td>\n",
       "      <td>0.29</td>\n",
       "      <td>True</td>\n",
       "    </tr>\n",
       "    <tr>\n",
       "      <th>1</th>\n",
       "      <td>0</td>\n",
       "      <td>0.0</td>\n",
       "      <td>0.0</td>\n",
       "      <td>92.6</td>\n",
       "      <td>92.6</td>\n",
       "      <td>0</td>\n",
       "      <td>92.57</td>\n",
       "      <td>False</td>\n",
       "    </tr>\n",
       "    <tr>\n",
       "      <th>2</th>\n",
       "      <td>Manchester</td>\n",
       "      <td>397063.0</td>\n",
       "      <td>384591.0</td>\n",
       "      <td>17.1</td>\n",
       "      <td>68.9</td>\n",
       "      <td>555741</td>\n",
       "      <td>1.43</td>\n",
       "      <td>True</td>\n",
       "    </tr>\n",
       "    <tr>\n",
       "      <th>3</th>\n",
       "      <td>Leeds</td>\n",
       "      <td>436384.0</td>\n",
       "      <td>432528.0</td>\n",
       "      <td>9.7</td>\n",
       "      <td>54.3</td>\n",
       "      <td>798786</td>\n",
       "      <td>0.57</td>\n",
       "      <td>True</td>\n",
       "    </tr>\n",
       "    <tr>\n",
       "      <th>4</th>\n",
       "      <td>Bristol, City of</td>\n",
       "      <td>174846.0</td>\n",
       "      <td>359990.0</td>\n",
       "      <td>69.1</td>\n",
       "      <td>75.1</td>\n",
       "      <td>465866</td>\n",
       "      <td>2.86</td>\n",
       "      <td>True</td>\n",
       "    </tr>\n",
       "    <tr>\n",
       "      <th>5</th>\n",
       "      <td>Nottingham</td>\n",
       "      <td>339969.0</td>\n",
       "      <td>456082.0</td>\n",
       "      <td>28.0</td>\n",
       "      <td>44.0</td>\n",
       "      <td>337098</td>\n",
       "      <td>6.57</td>\n",
       "      <td>True</td>\n",
       "    </tr>\n",
       "    <tr>\n",
       "      <th>6</th>\n",
       "      <td>Cambridge</td>\n",
       "      <td>257901.0</td>\n",
       "      <td>545420.0</td>\n",
       "      <td>43.1</td>\n",
       "      <td>12.9</td>\n",
       "      <td>125063</td>\n",
       "      <td>55.14</td>\n",
       "      <td>True</td>\n",
       "    </tr>\n",
       "    <tr>\n",
       "      <th>7</th>\n",
       "      <td>Cardiff</td>\n",
       "      <td>178887.0</td>\n",
       "      <td>315272.0</td>\n",
       "      <td>66.6</td>\n",
       "      <td>84.6</td>\n",
       "      <td>369202</td>\n",
       "      <td>4.57</td>\n",
       "      <td>True</td>\n",
       "    </tr>\n",
       "    <tr>\n",
       "      <th>8</th>\n",
       "      <td>Brighton and Hove</td>\n",
       "      <td>106850.0</td>\n",
       "      <td>530279.0</td>\n",
       "      <td>86.9</td>\n",
       "      <td>20.3</td>\n",
       "      <td>291738</td>\n",
       "      <td>12.57</td>\n",
       "      <td>False</td>\n",
       "    </tr>\n",
       "    <tr>\n",
       "      <th>9</th>\n",
       "      <td>Redbridge</td>\n",
       "      <td>189477.0</td>\n",
       "      <td>543512.0</td>\n",
       "      <td>60.0</td>\n",
       "      <td>13.4</td>\n",
       "      <td>305658</td>\n",
       "      <td>11.43</td>\n",
       "      <td>True</td>\n",
       "    </tr>\n",
       "  </tbody>\n",
       "</table>\n",
       "</div>"
      ],
      "text/plain": [
       "               Names  Northing   Easting  Northing %  Easting %  Population  \\\n",
       "0         Birmingham  287352.0  408150.0        39.4       60.9     1140525   \n",
       "1                  0       0.0       0.0        92.6       92.6           0   \n",
       "2         Manchester  397063.0  384591.0        17.1       68.9      555741   \n",
       "3              Leeds  436384.0  432528.0         9.7       54.3      798786   \n",
       "4   Bristol, City of  174846.0  359990.0        69.1       75.1      465866   \n",
       "5         Nottingham  339969.0  456082.0        28.0       44.0      337098   \n",
       "6          Cambridge  257901.0  545420.0        43.1       12.9      125063   \n",
       "7            Cardiff  178887.0  315272.0        66.6       84.6      369202   \n",
       "8  Brighton and Hove  106850.0  530279.0        86.9       20.3      291738   \n",
       "9          Redbridge  189477.0  543512.0        60.0       13.4      305658   \n",
       "\n",
       "   Population % Within_Range  \n",
       "0          0.29         True  \n",
       "1         92.57        False  \n",
       "2          1.43         True  \n",
       "3          0.57         True  \n",
       "4          2.86         True  \n",
       "5          6.57         True  \n",
       "6         55.14         True  \n",
       "7          4.57         True  \n",
       "8         12.57        False  \n",
       "9         11.43         True  "
      ]
     },
     "execution_count": 70,
     "metadata": {},
     "output_type": "execute_result"
    }
   ],
   "source": [
    "#Filling dataframe with data we collected earlier\n",
    "CentralityData = pd.DataFrame()\n",
    "CentralityData[\"Names\"] = Names\n",
    "CentralityData[\"Northing\"] = Northing\n",
    "CentralityData[\"Easting\"] = Easting\n",
    "CentralityData[\"Northing %\"] = NorthingNth\n",
    "CentralityData[\"Easting %\"] = EastingNth\n",
    "CentralityData[\"Population\"] = Populationk\n",
    "CentralityData[\"Population %\"] = PopOrigNth\n",
    "\n",
    "#applying a column to check if the Northing or Easting values fall within the central 50% of the Data\n",
    "CentralityData.loc[(CentralityData['Northing %'] <= 75) & (CentralityData['Northing %'] >=25) \n",
    "                   |(CentralityData['Easting %'] <= 75) & (CentralityData['Easting %'] >=25), 'Within_Range'] = 'True'  \n",
    "#Filling the Nans of the column to False if they were not set to tru in the lines above \n",
    "CentralityData[\"Within_Range\"] = CentralityData[\"Within_Range\"].fillna(\"False\")\n",
    "#showing output\n",
    "CentralityData"
   ]
  },
  {
   "cell_type": "markdown",
   "id": "58706b18",
   "metadata": {},
   "source": [
    "#### Conclusions 2.6 \n",
    "After reviewing the Centrality DataFrame, you can see in most cases (excluding from the outlier in row 1), at least one of the \"Northing %\" or \"Easting %\" column data points per row are within the 25 to 75 percentile range, as can be seen in the \"Within_Range\" column. This indicates that the Highest Betweeness Nodes (Cities) are mostly relatively centeral and therefore implies they are a route used by a travelling path implying that \"people tend to move between areas that are geographically close\", as the geographically close element can be associated with shortest Path. "
   ]
  },
  {
   "cell_type": "markdown",
   "id": "9c80cbae",
   "metadata": {},
   "source": [
    "#### REVIEWING DATA ANALSYS \n",
    "###### Clustering Coefficient \n",
    "We have shown that the Highest Clustering Coefficient Nodes are also in the lowest 30% for population, implying that many connections resulting in a Clustering Coefficient connection have a small population relative to the whole data set, this can mean that many of the small population nodes are represented as Villages with many small connections to neighbouring villages. The village model also implies that a small number of smallest routes flow through the edges between the villages, further implying that they have relatively lower Edge betweeness than larger Population node edges, and relatively low Betweeness Centrality for the Low Population Nodes. \n",
    "\n",
    "###### Betweeness Centrality \n",
    "We have shown that for 8 out of 10 of the Nodes with the highest Betweeness Centrality, they fall into the top 15% poplulation percentile and have a relatively central location (either in Northing or Easting) which tends to imply that they are being used as a connection for a shortest pathway between other nodes in the network. \n",
    "\n",
    "#### Conclusion\n",
    "From the analysis above this concludes that “people tend to move between areas that are geographically close” this is supported by the Betweeness centrality nodes being large population cities in the central Northing and Easting Values of the Dataset acting as nodes on the Shortest pathway form many other nodes, implying that people take the shortest path when moving between areas. Furthermore, it is supported by the highest clustering coefficent nodes are the smallest Population nodes (villages) where there are few shortest pathways flowing between these small population nodes implying that there is a greater chance that should someone be travelling to a destination node of one of these small poulation high Clustering Coefficient nodes when travelling through a small population high Clustering Coefficient node."
   ]
  },
  {
   "cell_type": "markdown",
   "id": "84fcd035",
   "metadata": {},
   "source": [
    "# 3. Graphs, objects, and computational complexity \n",
    "(1) A constructor init that takes as argument a list L of positive natural numbers representing the\n",
    "dimension sizes. An exception should be raised if the list has size less than one or if there exists a\n",
    "number in L which is not strictly positive"
   ]
  },
  {
   "cell_type": "code",
   "execution_count": 71,
   "id": "6b1b9c9d",
   "metadata": {},
   "outputs": [],
   "source": [
    "\n",
    "class MultiDimGrid:#define the class \n",
    "    \n",
    "    def __init__(self,L):\n",
    "        \n",
    "        if len(L) <= 1: #first expetion \n",
    "            raise ValueError(\"ValeError: Length of L is less than 1\")\n",
    "        else:\n",
    "            for i in L: #second expetion\n",
    "                if i <= 0:\n",
    "                    raise ValueError(\"ValueError, element of L is not strictly positive\")\n",
    "            else:\n",
    "                    self.L = L\n",
    "                    \n",
    "    def adj_matrix(self):\n",
    "        #Matrix is a numpy matrix conversion of an networkx grid graph of the List sent in to the constructor\"L\"\n",
    "        Matrix = nx.to_numpy_matrix(nx.grid_graph(L))\n",
    "        return(Matrix)\n",
    "    \n",
    "    def edge_list(self): \n",
    "        #define A to be the networkx grid_graph of the List L \n",
    "        A = nx.grid_graph(L)\n",
    "        #return the edges required via the networkx method A.edges\n",
    "        return(A.edges)\n",
    "    \n",
    "    def is_equal_to(self,Object): #method with an extra argument sent in \n",
    "        \n",
    "        outcome = True #define outcome to be a Boolean at the start, changed later.\n",
    "        \n",
    "        y = MultiDimGrid(Object) #define the object to be an instance of the MutliDimGrid Class \n",
    "        \n",
    "        #define the yMat to be the numpy matrix defined by the adj_matrix method of the MutliDimGrid Class\n",
    "        yMat = y.adj_matrix()  \n",
    "        #define the selfMat to be the numpy matrix defined by the adj_matrix method of the self-instance of the \n",
    "        #MutliDimGrid Class\n",
    "        selfMat = self.adj_matrix()\n",
    "        \n",
    "        #altering the outcome of the bool \n",
    "        if selfMat.all() == yMat.all(): #if all the values of the two adjacency matricies are the same\n",
    "            outcome = True\n",
    "        else: #else -> false \n",
    "            outcome = False\n",
    "                   \n",
    "        #return outcome\n",
    "        return(outcome)"
   ]
  },
  {
   "cell_type": "code",
   "execution_count": 87,
   "id": "f825c3f7",
   "metadata": {},
   "outputs": [
    {
     "name": "stdout",
     "output_type": "stream",
     "text": [
      "[[0. 1. 1. 0. 1. 0. 0. 0.]\n",
      " [1. 0. 0. 1. 0. 1. 0. 0.]\n",
      " [1. 0. 0. 1. 0. 0. 1. 0.]\n",
      " [0. 1. 1. 0. 0. 0. 0. 1.]\n",
      " [1. 0. 0. 0. 0. 1. 1. 0.]\n",
      " [0. 1. 0. 0. 1. 0. 0. 1.]\n",
      " [0. 0. 1. 0. 1. 0. 0. 1.]\n",
      " [0. 0. 0. 1. 0. 1. 1. 0.]] \n",
      "[((0, 0, 0), (1, 0, 0)), ((0, 0, 0), (0, 1, 0)), ((0, 0, 0), (0, 0, 1)), ((0, 0, 1), (1, 0, 1)), ((0, 0, 1), (0, 1, 1)), ((0, 1, 0), (1, 1, 0)), ((0, 1, 0), (0, 1, 1)), ((0, 1, 1), (1, 1, 1)), ((1, 0, 0), (1, 1, 0)), ((1, 0, 0), (1, 0, 1)), ((1, 0, 1), (1, 1, 1)), ((1, 1, 0), (1, 1, 1))] \n"
     ]
    },
    {
     "ename": "TypeError",
     "evalue": "'MultiDimGrid' object is not iterable",
     "output_type": "error",
     "traceback": [
      "\u001b[1;31m---------------------------------------------------------------------------\u001b[0m",
      "\u001b[1;31mTypeError\u001b[0m                                 Traceback (most recent call last)",
      "\u001b[1;32m~\\AppData\\Local\\Temp/ipykernel_17416/381407023.py\u001b[0m in \u001b[0;36m<module>\u001b[1;34m\u001b[0m\n\u001b[0;32m      7\u001b[0m \u001b[0mp\u001b[0m\u001b[1;33m(\u001b[0m\u001b[0my\u001b[0m\u001b[1;33m)\u001b[0m\u001b[1;33m\u001b[0m\u001b[1;33m\u001b[0m\u001b[0m\n\u001b[0;32m      8\u001b[0m \u001b[1;33m\u001b[0m\u001b[0m\n\u001b[1;32m----> 9\u001b[1;33m \u001b[0mnx\u001b[0m\u001b[1;33m.\u001b[0m\u001b[0mdraw\u001b[0m\u001b[1;33m(\u001b[0m\u001b[0mX\u001b[0m\u001b[1;33m)\u001b[0m\u001b[1;33m\u001b[0m\u001b[1;33m\u001b[0m\u001b[0m\n\u001b[0m",
      "\u001b[1;32m~\\anaconda3\\lib\\site-packages\\networkx\\drawing\\nx_pylab.py\u001b[0m in \u001b[0;36mdraw\u001b[1;34m(G, pos, ax, **kwds)\u001b[0m\n\u001b[0;32m    119\u001b[0m         \u001b[0mkwds\u001b[0m\u001b[1;33m[\u001b[0m\u001b[1;34m\"with_labels\"\u001b[0m\u001b[1;33m]\u001b[0m \u001b[1;33m=\u001b[0m \u001b[1;34m\"labels\"\u001b[0m \u001b[1;32min\u001b[0m \u001b[0mkwds\u001b[0m\u001b[1;33m\u001b[0m\u001b[1;33m\u001b[0m\u001b[0m\n\u001b[0;32m    120\u001b[0m \u001b[1;33m\u001b[0m\u001b[0m\n\u001b[1;32m--> 121\u001b[1;33m     \u001b[0mdraw_networkx\u001b[0m\u001b[1;33m(\u001b[0m\u001b[0mG\u001b[0m\u001b[1;33m,\u001b[0m \u001b[0mpos\u001b[0m\u001b[1;33m=\u001b[0m\u001b[0mpos\u001b[0m\u001b[1;33m,\u001b[0m \u001b[0max\u001b[0m\u001b[1;33m=\u001b[0m\u001b[0max\u001b[0m\u001b[1;33m,\u001b[0m \u001b[1;33m**\u001b[0m\u001b[0mkwds\u001b[0m\u001b[1;33m)\u001b[0m\u001b[1;33m\u001b[0m\u001b[1;33m\u001b[0m\u001b[0m\n\u001b[0m\u001b[0;32m    122\u001b[0m     \u001b[0max\u001b[0m\u001b[1;33m.\u001b[0m\u001b[0mset_axis_off\u001b[0m\u001b[1;33m(\u001b[0m\u001b[1;33m)\u001b[0m\u001b[1;33m\u001b[0m\u001b[1;33m\u001b[0m\u001b[0m\n\u001b[0;32m    123\u001b[0m     \u001b[0mplt\u001b[0m\u001b[1;33m.\u001b[0m\u001b[0mdraw_if_interactive\u001b[0m\u001b[1;33m(\u001b[0m\u001b[1;33m)\u001b[0m\u001b[1;33m\u001b[0m\u001b[1;33m\u001b[0m\u001b[0m\n",
      "\u001b[1;32m~\\anaconda3\\lib\\site-packages\\networkx\\drawing\\nx_pylab.py\u001b[0m in \u001b[0;36mdraw_networkx\u001b[1;34m(G, pos, arrows, with_labels, **kwds)\u001b[0m\n\u001b[0;32m    329\u001b[0m \u001b[1;33m\u001b[0m\u001b[0m\n\u001b[0;32m    330\u001b[0m     \u001b[1;32mif\u001b[0m \u001b[0mpos\u001b[0m \u001b[1;32mis\u001b[0m \u001b[1;32mNone\u001b[0m\u001b[1;33m:\u001b[0m\u001b[1;33m\u001b[0m\u001b[1;33m\u001b[0m\u001b[0m\n\u001b[1;32m--> 331\u001b[1;33m         \u001b[0mpos\u001b[0m \u001b[1;33m=\u001b[0m \u001b[0mnx\u001b[0m\u001b[1;33m.\u001b[0m\u001b[0mdrawing\u001b[0m\u001b[1;33m.\u001b[0m\u001b[0mspring_layout\u001b[0m\u001b[1;33m(\u001b[0m\u001b[0mG\u001b[0m\u001b[1;33m)\u001b[0m  \u001b[1;31m# default to spring layout\u001b[0m\u001b[1;33m\u001b[0m\u001b[1;33m\u001b[0m\u001b[0m\n\u001b[0m\u001b[0;32m    332\u001b[0m \u001b[1;33m\u001b[0m\u001b[0m\n\u001b[0;32m    333\u001b[0m     \u001b[0mdraw_networkx_nodes\u001b[0m\u001b[1;33m(\u001b[0m\u001b[0mG\u001b[0m\u001b[1;33m,\u001b[0m \u001b[0mpos\u001b[0m\u001b[1;33m,\u001b[0m \u001b[1;33m**\u001b[0m\u001b[0mnode_kwds\u001b[0m\u001b[1;33m)\u001b[0m\u001b[1;33m\u001b[0m\u001b[1;33m\u001b[0m\u001b[0m\n",
      "\u001b[1;32m~\\anaconda3\\lib\\site-packages\\networkx\\utils\\decorators.py\u001b[0m in \u001b[0;36margmap_spring_layout_27\u001b[1;34m(G, k, pos, fixed, iterations, threshold, weight, scale, center, dim, seed)\u001b[0m\n\u001b[0;32m      2\u001b[0m \u001b[1;32mfrom\u001b[0m \u001b[0mos\u001b[0m\u001b[1;33m.\u001b[0m\u001b[0mpath\u001b[0m \u001b[1;32mimport\u001b[0m \u001b[0msplitext\u001b[0m\u001b[1;33m\u001b[0m\u001b[1;33m\u001b[0m\u001b[0m\n\u001b[0;32m      3\u001b[0m \u001b[1;32mfrom\u001b[0m \u001b[0mcontextlib\u001b[0m \u001b[1;32mimport\u001b[0m \u001b[0mcontextmanager\u001b[0m\u001b[1;33m\u001b[0m\u001b[1;33m\u001b[0m\u001b[0m\n\u001b[1;32m----> 4\u001b[1;33m \u001b[1;32mfrom\u001b[0m \u001b[0mpathlib\u001b[0m \u001b[1;32mimport\u001b[0m \u001b[0mPath\u001b[0m\u001b[1;33m\u001b[0m\u001b[1;33m\u001b[0m\u001b[0m\n\u001b[0m\u001b[0;32m      5\u001b[0m \u001b[1;32mimport\u001b[0m \u001b[0mwarnings\u001b[0m\u001b[1;33m\u001b[0m\u001b[1;33m\u001b[0m\u001b[0m\n\u001b[0;32m      6\u001b[0m \u001b[1;33m\u001b[0m\u001b[0m\n",
      "\u001b[1;32m~\\anaconda3\\lib\\site-packages\\networkx\\drawing\\layout.py\u001b[0m in \u001b[0;36mspring_layout\u001b[1;34m(G, k, pos, fixed, iterations, threshold, weight, scale, center, dim, seed)\u001b[0m\n\u001b[0;32m    440\u001b[0m     \u001b[1;32mimport\u001b[0m \u001b[0mnumpy\u001b[0m \u001b[1;32mas\u001b[0m \u001b[0mnp\u001b[0m\u001b[1;33m\u001b[0m\u001b[1;33m\u001b[0m\u001b[0m\n\u001b[0;32m    441\u001b[0m \u001b[1;33m\u001b[0m\u001b[0m\n\u001b[1;32m--> 442\u001b[1;33m     \u001b[0mG\u001b[0m\u001b[1;33m,\u001b[0m \u001b[0mcenter\u001b[0m \u001b[1;33m=\u001b[0m \u001b[0m_process_params\u001b[0m\u001b[1;33m(\u001b[0m\u001b[0mG\u001b[0m\u001b[1;33m,\u001b[0m \u001b[0mcenter\u001b[0m\u001b[1;33m,\u001b[0m \u001b[0mdim\u001b[0m\u001b[1;33m)\u001b[0m\u001b[1;33m\u001b[0m\u001b[1;33m\u001b[0m\u001b[0m\n\u001b[0m\u001b[0;32m    443\u001b[0m \u001b[1;33m\u001b[0m\u001b[0m\n\u001b[0;32m    444\u001b[0m     \u001b[1;32mif\u001b[0m \u001b[0mfixed\u001b[0m \u001b[1;32mis\u001b[0m \u001b[1;32mnot\u001b[0m \u001b[1;32mNone\u001b[0m\u001b[1;33m:\u001b[0m\u001b[1;33m\u001b[0m\u001b[1;33m\u001b[0m\u001b[0m\n",
      "\u001b[1;32m~\\anaconda3\\lib\\site-packages\\networkx\\drawing\\layout.py\u001b[0m in \u001b[0;36m_process_params\u001b[1;34m(G, center, dim)\u001b[0m\n\u001b[0;32m     42\u001b[0m     \u001b[1;32mif\u001b[0m \u001b[1;32mnot\u001b[0m \u001b[0misinstance\u001b[0m\u001b[1;33m(\u001b[0m\u001b[0mG\u001b[0m\u001b[1;33m,\u001b[0m \u001b[0mnx\u001b[0m\u001b[1;33m.\u001b[0m\u001b[0mGraph\u001b[0m\u001b[1;33m)\u001b[0m\u001b[1;33m:\u001b[0m\u001b[1;33m\u001b[0m\u001b[1;33m\u001b[0m\u001b[0m\n\u001b[0;32m     43\u001b[0m         \u001b[0mempty_graph\u001b[0m \u001b[1;33m=\u001b[0m \u001b[0mnx\u001b[0m\u001b[1;33m.\u001b[0m\u001b[0mGraph\u001b[0m\u001b[1;33m(\u001b[0m\u001b[1;33m)\u001b[0m\u001b[1;33m\u001b[0m\u001b[1;33m\u001b[0m\u001b[0m\n\u001b[1;32m---> 44\u001b[1;33m         \u001b[0mempty_graph\u001b[0m\u001b[1;33m.\u001b[0m\u001b[0madd_nodes_from\u001b[0m\u001b[1;33m(\u001b[0m\u001b[0mG\u001b[0m\u001b[1;33m)\u001b[0m\u001b[1;33m\u001b[0m\u001b[1;33m\u001b[0m\u001b[0m\n\u001b[0m\u001b[0;32m     45\u001b[0m         \u001b[0mG\u001b[0m \u001b[1;33m=\u001b[0m \u001b[0mempty_graph\u001b[0m\u001b[1;33m\u001b[0m\u001b[1;33m\u001b[0m\u001b[0m\n\u001b[0;32m     46\u001b[0m \u001b[1;33m\u001b[0m\u001b[0m\n",
      "\u001b[1;32m~\\anaconda3\\lib\\site-packages\\networkx\\classes\\graph.py\u001b[0m in \u001b[0;36madd_nodes_from\u001b[1;34m(self, nodes_for_adding, **attr)\u001b[0m\n\u001b[0;32m    568\u001b[0m \u001b[1;33m\u001b[0m\u001b[0m\n\u001b[0;32m    569\u001b[0m         \"\"\"\n\u001b[1;32m--> 570\u001b[1;33m         \u001b[1;32mfor\u001b[0m \u001b[0mn\u001b[0m \u001b[1;32min\u001b[0m \u001b[0mnodes_for_adding\u001b[0m\u001b[1;33m:\u001b[0m\u001b[1;33m\u001b[0m\u001b[1;33m\u001b[0m\u001b[0m\n\u001b[0m\u001b[0;32m    571\u001b[0m             \u001b[1;32mtry\u001b[0m\u001b[1;33m:\u001b[0m\u001b[1;33m\u001b[0m\u001b[1;33m\u001b[0m\u001b[0m\n\u001b[0;32m    572\u001b[0m                 \u001b[0mnewnode\u001b[0m \u001b[1;33m=\u001b[0m \u001b[0mn\u001b[0m \u001b[1;32mnot\u001b[0m \u001b[1;32min\u001b[0m \u001b[0mself\u001b[0m\u001b[1;33m.\u001b[0m\u001b[0m_node\u001b[0m\u001b[1;33m\u001b[0m\u001b[1;33m\u001b[0m\u001b[0m\n",
      "\u001b[1;31mTypeError\u001b[0m: 'MultiDimGrid' object is not iterable"
     ]
    },
    {
     "data": {
      "image/png": "[encoded data removed]",
      "text/plain": [
       "<Figure size 432x288 with 1 Axes>"
      ]
     },
     "metadata": {},
     "output_type": "display_data"
    }
   ],
   "source": [
    "#show outcome \n",
    "L = [2,2,2]\n",
    "X = MultiDimGrid(L)\n",
    "y = X.adj_matrix()\n",
    "p(y)\n",
    "y = X.edge_list()\n",
    "p(y)"
   ]
  },
  {
   "cell_type": "markdown",
   "id": "6d23dd75",
   "metadata": {},
   "source": [
    "## Task 3.2. \n",
    "### Recall the definition of the d-dimensional hypercube graph from the lecture: Define a class Hypercube that inherits from MultiDimGrid and represents d-dimensional hypercube graphs. \n",
    "### The constructor of Hypercube should take as argument the dimension of the hypercube d. Apart from the constructor, Hypercube should inherit the methods from its parent class. No other additional method needs to be added."
   ]
  },
  {
   "cell_type": "code",
   "execution_count": 73,
   "id": "6b60af00",
   "metadata": {},
   "outputs": [],
   "source": [
    "class HyperCube(MultiDimGrid): #inheritance \n",
    "    \n",
    "    def __init__(self, d): #argument d being the dimention of the hypercube as asked\n",
    "        self.d = d\n",
    "          \n",
    "    "
   ]
  },
  {
   "cell_type": "code",
   "execution_count": 74,
   "id": "6356c70d",
   "metadata": {},
   "outputs": [
    {
     "data": {
      "text/plain": [
       "2"
      ]
     },
     "execution_count": 74,
     "metadata": {},
     "output_type": "execute_result"
    }
   ],
   "source": [
    "#showing example\n",
    "A = HyperCube(2)\n",
    "A.d"
   ]
  },
  {
   "cell_type": "markdown",
   "id": "bb6164a6",
   "metadata": {},
   "source": [
    "## Task 3.3.\n",
    "## What is the order of growth of the number of elops of your implementation of the four methods described in Task 3.1 (w.r.t. the number of dimensions k and the dimension sizes {m1, m2, . . . , mk} passed to the constructor)? \n",
    "\n",
    "### a) The order of growth of the __init__ Costructor:\n",
    "\n",
    "###### The order of growth of the __init__ Constructor is dependent on time complexity of nx.grid_graph() and a for loop.\n",
    "\n",
    "##### nx.grid_graph().\n",
    "Let $L$ be the list of dimensions. The number of Nodes, $N_n = \\prod_{i=1}^{n} (L_i) $. To simplify this we can seek the example of the List of dimensions, $L$, to be  $ L = [2,2,2,2] $, in which case this implies, by the formula, Number of Nodes for $n = 4$, is,  $N_{4} = \\prod_{i = 1}^{4} (2) = 2^4$ hence for a general n we can say that the Order of growth of the amount of nodes is bounded by $max(L)^{n}$, which therefore implies that the time complexity for the amount of nodes follows an $O(log_n)$ form, more precisely $O(log_{max(L)} n)$ form.\n",
    "\n",
    "The number of Edges $E$, can be calculated as: $E_{n} = 2(E_{n-1}) + N_{n-1} $ ,by definition. This definition if the number of Edges is reliant on the number of nodes from the previous iteration, i.e to calculate how many edges there are in 5 dimensions you use the knowledge of how many nodes there are in the $4^{th}$ dimension. Hence the amount of edges is reliant on the number of nodes which from above has shown to be an $O(log_n)$ form hence the number of edges follows a linear dependence of a  $O(log_n)$ form which can be written as  $O(Alog_n))$. This also implies the amount of edges has a  $O(log_n)$ form. \n",
    "\n",
    "For completeness this method has an $O(log_n)$ order of growth.\n",
    "\n",
    "##### For loop.\n",
    "Singular for loops of definite length have linear growth i.e $O(n)$\n",
    "\n",
    "**The WHOLE __init__ constructor** relies on time complexity $O(log(n))$ and $O(n)$. Hence the WHOLE init constructor has a order of growth of $O(log(n))$"
   ]
  },
  {
   "cell_type": "markdown",
   "id": "31b3f87b",
   "metadata": {},
   "source": [
    "### b) The order of growth of the adj_matrix method:\n",
    "The adj_matrix method is dependent on time complexity of nx.to_numpy_matrix() and nx.grid_graph().\n",
    "\n",
    "##### nx.to_numpy_matrix() Complexity\n",
    "\n",
    "Assuming graph has n verticies, this would imply there are $n^2$  elements of the matrix and hence to **build** the matrix with n elements would require the Time Complexity of $n^2$ (polynomial time complexity), hence Big O notation of $O(n^2)$.\n",
    "\n",
    "Filling the matrix with either a 1 or a 0 depending on the edge being between nodes or not, would require us to fill the matrix for all pairs that exist in the n element matrix. This is given by $(v_i,v_j)$  for  $i,j$ $\\in (1,...,n)$. The amount of pairs is given by $k\\choose 2$ $ = ((n)(n -1))/2$. Hence the adj_matrix method even though not stated should have Big O notation of $O((n^2)+(n^2)) = 2O(n^2)$, and hence $O(n^2)$. \n",
    "\n",
    "##### nx.grid_graph().\n",
    "As described above, the nx.grid_graph() method has an  $O(log(n))$ order of growth.\n",
    "\n",
    "**Hence the WHOLE adj_matrix method** relies on time complexity $O(log(n))$ and $O(n^2)$.Hence the WHOLE method has $O(log(n))$ order of growth."
   ]
  },
  {
   "cell_type": "markdown",
   "id": "da1a9f45",
   "metadata": {},
   "source": [
    "### c) Order of growth for the edge_list method:\n",
    "\n",
    "###### the order of growth of the edge_list method is dependant on time complexity of nx.grid_graph() and Graph.edges().\n",
    "\n",
    "##### nx.grid_graph()\n",
    "As described above, the nx.grid_graph() method has an  $O(log(n))$ order of growth.\n",
    "\n",
    "##### Graph.edges()\n",
    "The method, .edges(), has to find the associated nodes for each edge of a graph. This is most likely done by reviewing the adjacency matrix of the graph and finding the two nodes associated to the elements of the matrix that contain \"1\"'s. We already know that the adjaceny matrix, adj_matrix(), is an $O(n^2)$ order of growth. Filtering through all the elements in the adjacency matrix ($M^{N,N}$ adjacency matrixes are square matricies with number of elements = $n^2$). Hence finding all elements with 1's and retrieving the nodes associated are also order of growth $O(n^2)$\n",
    "\n",
    "There for the Graph.edges() method has an order of Growth of $O(n^2)$.\n",
    "\n",
    "**The WHOLE method edge_list** , relies on time complexity $O(log(n))$ and $O(n^2)$. Hence the whole method can be said to grow with $O(log(n))$"
   ]
  },
  {
   "cell_type": "markdown",
   "id": "3d13855b",
   "metadata": {},
   "source": [
    "### d) Order of growth of is_equal_to method()\n",
    "\n",
    "###### the order of growth of the is_equal_to method is dependant on time complexity of the __init__ constructor, the adj_matrix() method and the python .all() method().\n",
    "\n",
    "##### __init__ constructor\n",
    "\n",
    "As described above, the __init__ constructor has an  $O(log(n))$ order of growth.\n",
    "\n",
    "##### adj_matrix()\n",
    "\n",
    "As described above, the adj_matrix() method has an  $O(log(n))$ order of growth.\n",
    "\n",
    "#####  .all()\n",
    "\n",
    "In the is_equal_to method, we use the .all() method to compare two adjacency matrices to test if they are the same matrices. This involves checking every element in the whole matrix and comparing it to every element in the other matrix. At most the condition must check for $2(n^2)$ elements and hence has an associated $O(n^2)$ order of growth.\n",
    "\n",
    "**The WHOLE method is_equal_to** relies on time complexity of $O(log(n))$,$O(log(n))$ and $O(n^2))$. Hence the WHOLE method can be said to grow with $O(log(n))$"
   ]
  },
  {
   "cell_type": "markdown",
   "id": "f2bd2c23",
   "metadata": {},
   "source": [
    "## Discuss whether the time complexity of the method adj matrix can be linear in the number of dimensions k and the dimension sizes m1, m2, . . . , mk. If yes, write an implementation with such linear time complexity if no, explain why.\n",
    "\n",
    "### Answer: Yes.\n",
    "\n",
    "### Implementation:"
   ]
  },
  {
   "cell_type": "code",
   "execution_count": 93,
   "id": "6231620d",
   "metadata": {},
   "outputs": [
    {
     "name": "stdout",
     "output_type": "stream",
     "text": [
      "[[0.]] \n",
      "<__main__.MultiDimGrid object at 0x0000014A702ABFA0> \n"
     ]
    }
   ],
   "source": [
    "L = [1,1,1,1,1]\n",
    "X = MultiDimGrid(L)\n",
    "y = X.adj_matrix()\n",
    "p(y)\n",
    "y = X.edge_list()\n",
    "p(X)\n"
   ]
  },
  {
   "cell_type": "markdown",
   "id": "b55c7df7",
   "metadata": {},
   "source": [
    "### Comments:\n",
    "In the case that all the inputs of the list, L, are 1. We are dealing with an \"n\" dimensional object with a single node. \n",
    "Note from **3.3 b)** we saw a dependence of the adj_matrix method on the nx.to_numpy_matrix() which was $O(n^2)$ order of growth and also nx.grid_graph() which was $O(log(n))$ order of growth.\n",
    "\n",
    "Notice that as all n dimensions having 1 point is implying that the singular point in all dimensions is the same point in space (origin) and as only one node exists, there can not be an edge between a node and itself.\n",
    "\n",
    "This implies when we are accessing the $O(n^2)$ order of growth function, nx.to_numpy_matrix(), are n = 1 hence, $1^2 = 1$, which then can be seen as a linear order of growth, hence, $O(n)$, for $n = 1\n",
    "$\n",
    "\n",
    "Furthermore when we are accessing the $O(log(n))$ order of growth function, nx.grid_graph(), notice that in **3.3 a)**, we saw an $O(log_{max(L)}(n))$  form. Note for the case presented, all values of $L$ are $1$, hence the order of growth follows an $O(log_{1}(n))$ when $n \\in \\mathbb{z}$ and $max(L) = 1$, hence $O(log_{1}(n))$, Next notice that \n",
    "$1^n = 1,  \\forall n \\in \\mathbb{z} $ and hence can be written as $O(n)$ for the case where $max(L) = 1$\n",
    "\n",
    "As shown, the adj_matrix method can be written with $O(n)$ in the very specific case of $\\forall i \\in L, i = 1$"
   ]
  },
  {
   "cell_type": "markdown",
   "id": "83d19b39",
   "metadata": {},
   "source": [
    "## Discuss whether the time complexity of the method edge list can be linear in the number of dimensions k and the dimension sizes m1, m2, . . . , mk. If yes, write an implementation with such linear time complexity; if no, explain why."
   ]
  },
  {
   "cell_type": "markdown",
   "id": "d6b291e4",
   "metadata": {},
   "source": [
    "### Answer: Yes.\n",
    "\n",
    "### Implementation:"
   ]
  },
  {
   "cell_type": "code",
   "execution_count": 76,
   "id": "aa5f40d8",
   "metadata": {},
   "outputs": [
    {
     "name": "stdout",
     "output_type": "stream",
     "text": [
      "[[0.]] \n",
      "[] \n"
     ]
    }
   ],
   "source": [
    "L = [1,1,1,1,1]\n",
    "X = MultiDimGrid(L)\n",
    "y = X.adj_matrix()\n",
    "p(y)\n",
    "y = X.edge_list()\n",
    "p(y)"
   ]
  },
  {
   "cell_type": "markdown",
   "id": "3c132a9f",
   "metadata": {},
   "source": [
    "### Comments:\n",
    "The very similar case as the case above shown, the adj_matrix method can be written with $O(n)$ in the very specific case of $\\forall i \\in L, i = 1$\n",
    "\n",
    "\n",
    "In the case that all the inputs of the list, L, are 1. We are dealing with an \"n\" dimensional object with a single node. \n",
    "Note from **3.3 b)** we saw a dependence of the edge_list method on the Graph.edges() which was $O(n^2)$ order of growth and also nx.grid_graph() which was $O(log(n))$ order of growth.\n",
    "\n",
    "Notice that as all n dimensions having $n_{i}=1, \\forall i \\in {1,...,m}$, point is implying that the singular point in all dimensions is the same point in space (origin) and as only one node exists, there can not be an edge between a node and itself.\n",
    "\n",
    "This implies when we are accessing the $O(n^2)$ order of growth function, graph.edges(), are n = 1 hence, $1^2 = 1$, which then can be seen as a linear order of growth, hence, $O(n)$, for $n = 1\n",
    "$\n",
    "\n",
    "Furthermore when we are accessing the $O(log(n))$ order of growth function, nx.grid_graph(), notice that in **3.3 a)**, we saw an $O(log_{max(L)}(n))$  form. Note for the case presented, all values of $L$ are $1$, hence the order of growth follows an $O(log_{1}(n))$ when $n \\in \\mathbb{z}$ and $max(L) = 1$, hence $O(log_{1}(n))$, Next notice that \n",
    "$1^n = 1,  \\forall n \\in \\mathbb{z} $ and hence can be written as $O(n)$ for the case where $max(L) = 1$\n",
    "\n",
    "As shown, the edge_list() method can be written with $O(n)$ in the very specific case of $\\forall i \\in L, i = 1$"
   ]
  },
  {
   "cell_type": "code",
   "execution_count": null,
   "id": "88de5d62",
   "metadata": {},
   "outputs": [],
   "source": []
  }
 ],
 "metadata": {
  "kernelspec": {
   "display_name": "Python 3 (ipykernel)",
   "language": "python",
   "name": "python3"
  },
  "language_info": {
   "codemirror_mode": {
    "name": "ipython",
    "version": 3
   },
   "file_extension": ".py",
   "mimetype": "text/x-python",
   "name": "python",
   "nbconvert_exporter": "python",
   "pygments_lexer": "ipython3",
   "version": "3.11.3"
  }
 },
 "nbformat": 4,
 "nbformat_minor": 5
}
